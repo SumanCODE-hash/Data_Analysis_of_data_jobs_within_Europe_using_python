{
 "cells": [
  {
   "cell_type": "markdown",
   "id": "cb51c194",
   "metadata": {},
   "source": [
    "<a target=\"_blank\" href=\"https://colab.research.google.com/github/lukebarousse/Python_Data_Analytics_Course/blob/main/3_Project/5_Optimal_Skills.ipynb\">\n",
    "  <img src=\"https://colab.research.google.com/assets/colab-badge.svg\" alt=\"Open In Colab\"/>\n",
    "</a>"
   ]
  },
  {
   "cell_type": "markdown",
   "metadata": {},
   "source": [
    "# What is the most optimal skill to learn for Data Analysts?\n",
    "\n",
    "#### Methodology\n",
    "\n",
    "1. Visualize median salary vs percent skill demand\n",
    "2. (Optional) Determine if certain technologies are more prevalent\n"
   ]
  },
  {
   "cell_type": "markdown",
   "metadata": {},
   "source": [
    "## Import Libraries and Data"
   ]
  },
  {
   "cell_type": "markdown",
   "metadata": {},
   "source": [
    "Import the libraries, data and change the `job_posted_date` to a datetime type."
   ]
  },
  {
   "cell_type": "code",
   "execution_count": 4,
   "metadata": {},
   "outputs": [],
   "source": [
    "# Importing Libraries\n",
    "import ast\n",
    "import pandas as pd\n",
    "import seaborn as sns\n",
    "from datasets import load_dataset\n",
    "import matplotlib.pyplot as plt  \n",
    "\n",
    "# Loading Data\n",
    "df_european_cleaned = pd.read_csv(\"df_european_cleaned_copy.csv\")\n",
    "\n",
    "df_european_cleaned_copy = df_european_cleaned.copy()\n",
    "# Data Cleanup\n",
    "df_european_cleaned_copy['job_posted_date'] = pd.to_datetime(df_european_cleaned_copy['job_posted_date'])\n",
    "df_european_cleaned_copy['job_skills'] = df_european_cleaned_copy['job_skills'].apply(lambda x: ast.literal_eval(x) if pd.notna(x) else x)"
   ]
  },
  {
   "cell_type": "code",
   "execution_count": 5,
   "metadata": {},
   "outputs": [],
   "source": [
    "# Filtering Data for Data Analysts\n",
    "df_EU_DA = df_european_cleaned_copy[df_european_cleaned_copy['job_title_short'] == 'Data Analyst'].copy()"
   ]
  },
  {
   "cell_type": "code",
   "execution_count": 6,
   "metadata": {},
   "outputs": [],
   "source": [
    "# Explode the skills column to create a row for each skill\n",
    "df_skills = df_EU_DA.explode('job_skills')"
   ]
  },
  {
   "cell_type": "markdown",
   "metadata": {},
   "source": [
    "## Calculate Percent of Job Postings that Have Skills"
   ]
  },
  {
   "cell_type": "markdown",
   "metadata": {},
   "source": [
    "Group the data by job skills and calculates the count and mean salary for each skill, sorting the results in descending order by count. It then renames the columns. Calculates the percentage that each skill count represents out of the total number of Data Analyst jobs. Finally, filter out any skills that don't have any jobs associated with them."
   ]
  },
  {
   "cell_type": "code",
   "execution_count": 7,
   "metadata": {},
   "outputs": [
    {
     "data": {
      "application/vnd.microsoft.datawrangler.viewer.v0+json": {
       "columns": [
        {
         "name": "job_skills",
         "rawType": "object",
         "type": "string"
        },
        {
         "name": "skill_count",
         "rawType": "int64",
         "type": "integer"
        },
        {
         "name": "mean_salary",
         "rawType": "float64",
         "type": "float"
        },
        {
         "name": "skill_percent",
         "rawType": "float64",
         "type": "float"
        }
       ],
       "ref": "b3c0f0a2-d128-4d88-807a-ad07c66dce61",
       "rows": [
        [
         "sql",
         "32360",
         "89120.0588380717",
         "44.660354964255156"
        ],
        [
         "python",
         "21643",
         "89141.14967888001",
         "29.86971762952331"
        ],
        [
         "excel",
         "20564",
         "89036.00508169617",
         "28.380579094095893"
        ],
        [
         "power bi",
         "16432",
         "89089.00502069133",
         "22.677965166027217"
        ],
        [
         "tableau",
         "13979",
         "89088.60354817941",
         "19.29255568743272"
        ],
        [
         "r",
         "9808",
         "89111.05148858075",
         "13.536117474951007"
        ],
        [
         "sas",
         "8118",
         "89085.9164818921",
         "11.203731817052637"
        ],
        [
         "sap",
         "5156",
         "89104.22430178433",
         "7.115846421375141"
        ],
        [
         "azure",
         "4902",
         "89343.32048143615",
         "6.765298517762014"
        ],
        [
         "powerpoint",
         "3244",
         "89012.18834771887",
         "4.477076375279472"
        ],
        [
         "vba",
         "3119",
         "89077.33376082078",
         "4.304562643186398"
        ],
        [
         "qlik",
         "2927",
         "89073.69080970276",
         "4.039581550691436"
        ],
        [
         "go",
         "2896",
         "88992.44958563536",
         "3.996798145132353"
        ],
        [
         "aws",
         "2828",
         "89344.67291371994",
         "3.90295067487372"
        ],
        [
         "looker",
         "2698",
         "89219.14121571534",
         "3.723536393496922"
        ],
        [
         "word",
         "2633",
         "89025.7949107482",
         "3.633829252808524"
        ],
        [
         "oracle",
         "2512",
         "89251.45859872611",
         "3.4668359601424275"
        ],
        [
         "sql server",
         "2197",
         "89307.41215293582",
         "3.032101355267879"
        ],
        [
         "snowflake",
         "1866",
         "89268.18863879958",
         "2.5752849926854178"
        ],
        [
         "bigquery",
         "1850",
         "89224.32189189189",
         "2.553203234977504"
        ],
        [
         "dax",
         "1750",
         "89157.23257142857",
         "2.4151922493030447"
        ],
        [
         "spark",
         "1711",
         "89613.77206312098",
         "2.3613679648900052"
        ],
        [
         "java",
         "1616",
         "89211.8879950495",
         "2.2302575284992683"
        ],
        [
         "gcp",
         "1595",
         "89339.40877742946",
         "2.201275221507632"
        ],
        [
         "flow",
         "1520",
         "89384.93618421053",
         "2.0977669822517875"
        ],
        [
         "jira",
         "1513",
         "89160.88169200264",
         "2.088106213254575"
        ],
        [
         "databricks",
         "1440",
         "89351.43541666666",
         "1.9873581937122193"
        ],
        [
         "git",
         "1439",
         "89435.22515635859",
         "1.985978083855475"
        ],
        [
         "pandas",
         "1422",
         "89222.63924050632",
         "1.9625162162908167"
        ],
        [
         "gdpr",
         "1413",
         "89117.85208775655",
         "1.9500952275801156"
        ],
        [
         "javascript",
         "1337",
         "89064.32498130143",
         "1.8452068784675262"
        ],
        [
         "alteryx",
         "1320",
         "89141.89393939394",
         "1.821745010902868"
        ],
        [
         "mysql",
         "1086",
         "89267.58747697974",
         "1.4987993044246322"
        ],
        [
         "hadoop",
         "1059",
         "89213.23229461757",
         "1.4615363382925282"
        ],
        [
         "airflow",
         "1056",
         "89313.74242424243",
         "1.4573960087222944"
        ],
        [
         "mongodb",
         "942",
         "89261.14649681529",
         "1.3000634850534103"
        ],
        [
         "c",
         "928",
         "89178.46336206897",
         "1.2807419470589858"
        ],
        [
         "spss",
         "908",
         "88997.8127753304",
         "1.253139749924094"
        ],
        [
         "ssis",
         "904",
         "89095.63053097345",
         "1.2476193104971156"
        ],
        [
         "sharepoint",
         "900",
         "89133.82222222222",
         "1.2420988710701373"
        ],
        [
         "postgresql",
         "847",
         "89219.48051948052",
         "1.1689530486626736"
        ],
        [
         "vue",
         "811",
         "89100.0",
         "1.119269093819868"
        ],
        [
         "confluence",
         "790",
         "89181.36075949368",
         "1.0902867868282315"
        ],
        [
         "nosql",
         "780",
         "89961.97115384616",
         "1.0764856882607856"
        ],
        [
         "pyspark",
         "738",
         "89057.69647696477",
         "1.0185210742775124"
        ],
        [
         "outlook",
         "732",
         "88974.04781420765",
         "1.010240415137045"
        ],
        [
         "scala",
         "731",
         "89246.35978112175",
         "1.0088603052803002"
        ],
        [
         "sheets",
         "725",
         "88939.93931034482",
         "1.0005796461398326"
        ],
        [
         "matlab",
         "698",
         "89028.31518624641",
         "0.9633166800077286"
        ],
        [
         "numpy",
         "683",
         "89195.84333821376",
         "0.9426150321565596"
        ]
       ],
       "shape": {
        "columns": 3,
        "rows": 221
       }
      },
      "text/html": [
       "<div>\n",
       "<style scoped>\n",
       "    .dataframe tbody tr th:only-of-type {\n",
       "        vertical-align: middle;\n",
       "    }\n",
       "\n",
       "    .dataframe tbody tr th {\n",
       "        vertical-align: top;\n",
       "    }\n",
       "\n",
       "    .dataframe thead th {\n",
       "        text-align: right;\n",
       "    }\n",
       "</style>\n",
       "<table border=\"1\" class=\"dataframe\">\n",
       "  <thead>\n",
       "    <tr style=\"text-align: right;\">\n",
       "      <th></th>\n",
       "      <th>skill_count</th>\n",
       "      <th>mean_salary</th>\n",
       "      <th>skill_percent</th>\n",
       "    </tr>\n",
       "    <tr>\n",
       "      <th>job_skills</th>\n",
       "      <th></th>\n",
       "      <th></th>\n",
       "      <th></th>\n",
       "    </tr>\n",
       "  </thead>\n",
       "  <tbody>\n",
       "    <tr>\n",
       "      <th>sql</th>\n",
       "      <td>32360</td>\n",
       "      <td>89120.058838</td>\n",
       "      <td>44.660355</td>\n",
       "    </tr>\n",
       "    <tr>\n",
       "      <th>python</th>\n",
       "      <td>21643</td>\n",
       "      <td>89141.149679</td>\n",
       "      <td>29.869718</td>\n",
       "    </tr>\n",
       "    <tr>\n",
       "      <th>excel</th>\n",
       "      <td>20564</td>\n",
       "      <td>89036.005082</td>\n",
       "      <td>28.380579</td>\n",
       "    </tr>\n",
       "    <tr>\n",
       "      <th>power bi</th>\n",
       "      <td>16432</td>\n",
       "      <td>89089.005021</td>\n",
       "      <td>22.677965</td>\n",
       "    </tr>\n",
       "    <tr>\n",
       "      <th>tableau</th>\n",
       "      <td>13979</td>\n",
       "      <td>89088.603548</td>\n",
       "      <td>19.292556</td>\n",
       "    </tr>\n",
       "    <tr>\n",
       "      <th>...</th>\n",
       "      <td>...</td>\n",
       "      <td>...</td>\n",
       "      <td>...</td>\n",
       "    </tr>\n",
       "    <tr>\n",
       "      <th>mlr</th>\n",
       "      <td>1</td>\n",
       "      <td>89100.000000</td>\n",
       "      <td>0.001380</td>\n",
       "    </tr>\n",
       "    <tr>\n",
       "      <th>ovh</th>\n",
       "      <td>1</td>\n",
       "      <td>89100.000000</td>\n",
       "      <td>0.001380</td>\n",
       "    </tr>\n",
       "    <tr>\n",
       "      <th>nuxt.js</th>\n",
       "      <td>1</td>\n",
       "      <td>89100.000000</td>\n",
       "      <td>0.001380</td>\n",
       "    </tr>\n",
       "    <tr>\n",
       "      <th>workfront</th>\n",
       "      <td>1</td>\n",
       "      <td>89100.000000</td>\n",
       "      <td>0.001380</td>\n",
       "    </tr>\n",
       "    <tr>\n",
       "      <th>xamarin</th>\n",
       "      <td>1</td>\n",
       "      <td>89100.000000</td>\n",
       "      <td>0.001380</td>\n",
       "    </tr>\n",
       "  </tbody>\n",
       "</table>\n",
       "<p>221 rows × 3 columns</p>\n",
       "</div>"
      ],
      "text/plain": [
       "            skill_count   mean_salary  skill_percent\n",
       "job_skills                                          \n",
       "sql               32360  89120.058838      44.660355\n",
       "python            21643  89141.149679      29.869718\n",
       "excel             20564  89036.005082      28.380579\n",
       "power bi          16432  89089.005021      22.677965\n",
       "tableau           13979  89088.603548      19.292556\n",
       "...                 ...           ...            ...\n",
       "mlr                   1  89100.000000       0.001380\n",
       "ovh                   1  89100.000000       0.001380\n",
       "nuxt.js               1  89100.000000       0.001380\n",
       "workfront             1  89100.000000       0.001380\n",
       "xamarin               1  89100.000000       0.001380\n",
       "\n",
       "[221 rows x 3 columns]"
      ]
     },
     "execution_count": 7,
     "metadata": {},
     "output_type": "execute_result"
    }
   ],
   "source": [
    "# using df_DA find the count of skills and also the median salary for each skill\n",
    "df_DA_skills = df_skills.groupby('job_skills')['salary_year_avg'].agg(['count', 'mean']).sort_values(by='count', ascending=False)\n",
    "\n",
    "df_DA_skills = df_DA_skills.rename(columns={'count': 'skill_count', 'mean': 'mean_salary'})\n",
    "\n",
    "DA_job_count = len(df_EU_DA)  # Find count of Data Analyst jobs in US with salary info\n",
    "\n",
    "df_DA_skills['skill_percent'] = df_DA_skills['skill_count'] / DA_job_count * 100\n",
    "\n",
    "df_DA_skills = df_DA_skills[df_DA_skills['skill_count'] > 0]\n",
    "\n",
    "df_DA_skills"
   ]
  },
  {
   "cell_type": "markdown",
   "metadata": {},
   "source": [
    "## Median Salary vs Percent Skill Demand"
   ]
  },
  {
   "cell_type": "markdown",
   "metadata": {},
   "source": [
    "Filters for Data Analyst skills that exceed a certain percentage (`skill_limit`)."
   ]
  },
  {
   "cell_type": "code",
   "execution_count": 8,
   "metadata": {},
   "outputs": [],
   "source": [
    "skill_limit = 5\n",
    "\n",
    "df_DA_skills_high_demand = df_DA_skills[df_DA_skills['skill_percent'] > skill_limit]"
   ]
  },
  {
   "cell_type": "code",
   "execution_count": 9,
   "metadata": {},
   "outputs": [
    {
     "data": {
      "application/vnd.microsoft.datawrangler.viewer.v0+json": {
       "columns": [
        {
         "name": "job_skills",
         "rawType": "object",
         "type": "string"
        },
        {
         "name": "skill_count",
         "rawType": "int64",
         "type": "integer"
        },
        {
         "name": "mean_salary",
         "rawType": "float64",
         "type": "float"
        },
        {
         "name": "skill_percent",
         "rawType": "float64",
         "type": "float"
        }
       ],
       "ref": "fbc484ae-aa4e-4a45-b178-b0927abf908f",
       "rows": [
        [
         "sql",
         "32360",
         "89120.0588380717",
         "44.660354964255156"
        ],
        [
         "python",
         "21643",
         "89141.14967888001",
         "29.86971762952331"
        ],
        [
         "excel",
         "20564",
         "89036.00508169617",
         "28.380579094095893"
        ],
        [
         "power bi",
         "16432",
         "89089.00502069133",
         "22.677965166027217"
        ],
        [
         "tableau",
         "13979",
         "89088.60354817941",
         "19.29255568743272"
        ],
        [
         "r",
         "9808",
         "89111.05148858075",
         "13.536117474951007"
        ],
        [
         "sas",
         "8118",
         "89085.9164818921",
         "11.203731817052637"
        ],
        [
         "sap",
         "5156",
         "89104.22430178433",
         "7.115846421375141"
        ],
        [
         "azure",
         "4902",
         "89343.32048143615",
         "6.765298517762014"
        ]
       ],
       "shape": {
        "columns": 3,
        "rows": 9
       }
      },
      "text/html": [
       "<div>\n",
       "<style scoped>\n",
       "    .dataframe tbody tr th:only-of-type {\n",
       "        vertical-align: middle;\n",
       "    }\n",
       "\n",
       "    .dataframe tbody tr th {\n",
       "        vertical-align: top;\n",
       "    }\n",
       "\n",
       "    .dataframe thead th {\n",
       "        text-align: right;\n",
       "    }\n",
       "</style>\n",
       "<table border=\"1\" class=\"dataframe\">\n",
       "  <thead>\n",
       "    <tr style=\"text-align: right;\">\n",
       "      <th></th>\n",
       "      <th>skill_count</th>\n",
       "      <th>mean_salary</th>\n",
       "      <th>skill_percent</th>\n",
       "    </tr>\n",
       "    <tr>\n",
       "      <th>job_skills</th>\n",
       "      <th></th>\n",
       "      <th></th>\n",
       "      <th></th>\n",
       "    </tr>\n",
       "  </thead>\n",
       "  <tbody>\n",
       "    <tr>\n",
       "      <th>sql</th>\n",
       "      <td>32360</td>\n",
       "      <td>89120.058838</td>\n",
       "      <td>44.660355</td>\n",
       "    </tr>\n",
       "    <tr>\n",
       "      <th>python</th>\n",
       "      <td>21643</td>\n",
       "      <td>89141.149679</td>\n",
       "      <td>29.869718</td>\n",
       "    </tr>\n",
       "    <tr>\n",
       "      <th>excel</th>\n",
       "      <td>20564</td>\n",
       "      <td>89036.005082</td>\n",
       "      <td>28.380579</td>\n",
       "    </tr>\n",
       "    <tr>\n",
       "      <th>power bi</th>\n",
       "      <td>16432</td>\n",
       "      <td>89089.005021</td>\n",
       "      <td>22.677965</td>\n",
       "    </tr>\n",
       "    <tr>\n",
       "      <th>tableau</th>\n",
       "      <td>13979</td>\n",
       "      <td>89088.603548</td>\n",
       "      <td>19.292556</td>\n",
       "    </tr>\n",
       "    <tr>\n",
       "      <th>r</th>\n",
       "      <td>9808</td>\n",
       "      <td>89111.051489</td>\n",
       "      <td>13.536117</td>\n",
       "    </tr>\n",
       "    <tr>\n",
       "      <th>sas</th>\n",
       "      <td>8118</td>\n",
       "      <td>89085.916482</td>\n",
       "      <td>11.203732</td>\n",
       "    </tr>\n",
       "    <tr>\n",
       "      <th>sap</th>\n",
       "      <td>5156</td>\n",
       "      <td>89104.224302</td>\n",
       "      <td>7.115846</td>\n",
       "    </tr>\n",
       "    <tr>\n",
       "      <th>azure</th>\n",
       "      <td>4902</td>\n",
       "      <td>89343.320481</td>\n",
       "      <td>6.765299</td>\n",
       "    </tr>\n",
       "  </tbody>\n",
       "</table>\n",
       "</div>"
      ],
      "text/plain": [
       "            skill_count   mean_salary  skill_percent\n",
       "job_skills                                          \n",
       "sql               32360  89120.058838      44.660355\n",
       "python            21643  89141.149679      29.869718\n",
       "excel             20564  89036.005082      28.380579\n",
       "power bi          16432  89089.005021      22.677965\n",
       "tableau           13979  89088.603548      19.292556\n",
       "r                  9808  89111.051489      13.536117\n",
       "sas                8118  89085.916482      11.203732\n",
       "sap                5156  89104.224302       7.115846\n",
       "azure              4902  89343.320481       6.765299"
      ]
     },
     "execution_count": 9,
     "metadata": {},
     "output_type": "execute_result"
    }
   ],
   "source": [
    "df_DA_skills_high_demand"
   ]
  },
  {
   "cell_type": "markdown",
   "metadata": {},
   "source": [
    "Create a scatter plot to visualize the relationship between the percentage of Data Analyst jobs that require specific skills and the mean salary for those skills."
   ]
  },
  {
   "cell_type": "code",
   "execution_count": 10,
   "metadata": {},
   "outputs": [
    {
     "data": {
      "image/png": "[encoded data removed]",
      "text/plain": [
       "<Figure size 640x480 with 1 Axes>"
      ]
     },
     "metadata": {},
     "output_type": "display_data"
    }
   ],
   "source": [
    "from adjustText import adjust_text\n",
    "\n",
    "plt.scatter(df_DA_skills_high_demand['skill_percent'], df_DA_skills_high_demand['mean_salary'])\n",
    "plt.xlabel('Percent of Data Analyst Jobs')\n",
    "plt.ylabel('Mean Salary ($USD)')  # Assuming this is the label you want for y-axis\n",
    "plt.title('Most Optimal Skills for Data Analysts in the Europe')\n",
    "\n",
    "# Get current axes, set limits, and format axes\n",
    "ax = plt.gca()\n",
    "ax.yaxis.set_major_formatter(plt.FuncFormatter(lambda y, pos: f'${int(y/1000)}K'))  # Example formatting y-axis\n",
    "\n",
    "# Add labels to points and collect them in a list\n",
    "texts = []\n",
    "for i, txt in enumerate(df_DA_skills_high_demand.index):\n",
    "    texts.append(plt.text(df_DA_skills_high_demand['skill_percent'].iloc[i], df_DA_skills_high_demand['mean_salary'].iloc[i], \" \" + txt))\n",
    "\n",
    "# Adjust text to avoid overlap and add arrows\n",
    "adjust_text(texts, arrowprops=dict(arrowstyle='->', color='gray'))\n",
    "\n",
    "plt.show()"
   ]
  },
  {
   "cell_type": "markdown",
   "metadata": {},
   "source": [
    "## Bonus: Coloring by Technology"
   ]
  },
  {
   "cell_type": "markdown",
   "metadata": {},
   "source": [
    "We're going to add color labels based on technology.\n",
    "\n",
    "Removes duplicate entries and any rows with missing values. Then, it combines all dictionary entries into a single dictionary, summing values for keys that repeat across entries. To ensure each key's values are unique, it converts the values to a set and then back to a list. The final result is a dictionary where each key represents a skill and each value is a list of unique attributes associated with that skill."
   ]
  },
  {
   "cell_type": "code",
   "execution_count": 12,
   "metadata": {},
   "outputs": [
    {
     "data": {
      "text/plain": [
       "{'analyst_tools': ['looker',\n",
       "  'cognos',\n",
       "  'word',\n",
       "  'excel',\n",
       "  'spss',\n",
       "  'sap',\n",
       "  'alteryx',\n",
       "  'visio',\n",
       "  'ms access',\n",
       "  'esquisse',\n",
       "  'datarobot',\n",
       "  'outlook',\n",
       "  'power bi',\n",
       "  'qlik',\n",
       "  'sas',\n",
       "  'microstrategy',\n",
       "  'sheets',\n",
       "  'nuix',\n",
       "  'tableau',\n",
       "  'dax',\n",
       "  'spreadsheet',\n",
       "  'sharepoint',\n",
       "  'powerpoint',\n",
       "  'splunk',\n",
       "  'powerbi',\n",
       "  'ssis',\n",
       "  'ssrs'],\n",
       " 'cloud': ['gcp',\n",
       "  'ibm cloud',\n",
       "  'ovh',\n",
       "  'heroku',\n",
       "  'databricks',\n",
       "  'oracle',\n",
       "  'aws',\n",
       "  'colocation',\n",
       "  'vmware',\n",
       "  'openstack',\n",
       "  'bigquery',\n",
       "  'firebase',\n",
       "  'digitalocean',\n",
       "  'redshift',\n",
       "  'watson',\n",
       "  'linode',\n",
       "  'aurora',\n",
       "  'azure',\n",
       "  'snowflake'],\n",
       " 'libraries': ['cordova',\n",
       "  'spark',\n",
       "  'pyspark',\n",
       "  'seaborn',\n",
       "  'keras',\n",
       "  'rshiny',\n",
       "  'flutter',\n",
       "  'scikit-learn',\n",
       "  'gdpr',\n",
       "  'hadoop',\n",
       "  'tensorflow',\n",
       "  'ggplot2',\n",
       "  'dlib',\n",
       "  'ionic',\n",
       "  'matplotlib',\n",
       "  'graphql',\n",
       "  'tidyr',\n",
       "  'theano',\n",
       "  'pytorch',\n",
       "  'nltk',\n",
       "  'dplyr',\n",
       "  'spring',\n",
       "  'mxnet',\n",
       "  'electron',\n",
       "  'capacitor',\n",
       "  'selenium',\n",
       "  'huggingface',\n",
       "  'mlr',\n",
       "  'plotly',\n",
       "  'hugging face',\n",
       "  'airflow',\n",
       "  'chainer',\n",
       "  'kafka',\n",
       "  'react',\n",
       "  'numpy',\n",
       "  'qt',\n",
       "  'mlpack',\n",
       "  'xamarin',\n",
       "  'jupyter',\n",
       "  'tidyverse',\n",
       "  'opencv',\n",
       "  'pandas'],\n",
       " 'other': ['puppet',\n",
       "  'unity',\n",
       "  'github',\n",
       "  'unreal',\n",
       "  'docker',\n",
       "  'gitlab',\n",
       "  'jenkins',\n",
       "  'chef',\n",
       "  'git',\n",
       "  'bitbucket',\n",
       "  'pulumi',\n",
       "  'terraform',\n",
       "  'atlassian',\n",
       "  'terminal',\n",
       "  'npm',\n",
       "  'codecommit',\n",
       "  'flow',\n",
       "  'ansible',\n",
       "  'svn',\n",
       "  'yarn',\n",
       "  'kubernetes'],\n",
       " 'programming': ['ruby',\n",
       "  'crystal',\n",
       "  'css',\n",
       "  'c++',\n",
       "  'nosql',\n",
       "  'c',\n",
       "  'pascal',\n",
       "  'assembly',\n",
       "  'no-sql',\n",
       "  'go',\n",
       "  'javascript',\n",
       "  'lua',\n",
       "  'lisp',\n",
       "  'typescript',\n",
       "  'vb.net',\n",
       "  'visual basic',\n",
       "  'f#',\n",
       "  'cobol',\n",
       "  'julia',\n",
       "  'php',\n",
       "  'apl',\n",
       "  't-sql',\n",
       "  'delphi',\n",
       "  'swift',\n",
       "  'python',\n",
       "  'dart',\n",
       "  'clojure',\n",
       "  'scala',\n",
       "  'java',\n",
       "  'elixir',\n",
       "  'mongo',\n",
       "  'perl',\n",
       "  'solidity',\n",
       "  'c#',\n",
       "  'fortran',\n",
       "  'ocaml',\n",
       "  'sas',\n",
       "  'html',\n",
       "  'rust',\n",
       "  'groovy',\n",
       "  'kotlin',\n",
       "  'sql',\n",
       "  'objective-c',\n",
       "  'matlab',\n",
       "  'golang',\n",
       "  'erlang',\n",
       "  'r',\n",
       "  'bash',\n",
       "  'sass',\n",
       "  'mongodb',\n",
       "  'vba',\n",
       "  'shell',\n",
       "  'haskell',\n",
       "  'powershell'],\n",
       " 'async': ['clickup',\n",
       "  'confluence',\n",
       "  'smartsheet',\n",
       "  'planner',\n",
       "  'workfront',\n",
       "  'wrike',\n",
       "  'dingtalk',\n",
       "  'microsoft lists',\n",
       "  'notion',\n",
       "  'jira',\n",
       "  'monday.com',\n",
       "  'wimi',\n",
       "  'airtable',\n",
       "  'trello',\n",
       "  'asana'],\n",
       " 'databases': ['cassandra',\n",
       "  'mariadb',\n",
       "  'dynamodb',\n",
       "  'db2',\n",
       "  'redis',\n",
       "  'couchbase',\n",
       "  'sqlite',\n",
       "  'postgresql',\n",
       "  'neo4j',\n",
       "  'mongodb',\n",
       "  'mysql',\n",
       "  'firestore',\n",
       "  'couchdb',\n",
       "  'elasticsearch',\n",
       "  'sqlserver',\n",
       "  'firebase',\n",
       "  'sql server'],\n",
       " 'os': ['macos',\n",
       "  'ubuntu',\n",
       "  'unix',\n",
       "  'debian',\n",
       "  'redhat',\n",
       "  'centos',\n",
       "  'fedora',\n",
       "  'wsl',\n",
       "  'arch',\n",
       "  'suse',\n",
       "  'windows',\n",
       "  'kali',\n",
       "  'linux'],\n",
       " 'webframeworks': ['fastify',\n",
       "  'ruby',\n",
       "  'jquery',\n",
       "  'express',\n",
       "  'gatsby',\n",
       "  'next.js',\n",
       "  'asp.net core',\n",
       "  'phoenix',\n",
       "  'node.js',\n",
       "  'symfony',\n",
       "  'flask',\n",
       "  'ruby on rails',\n",
       "  'react.js',\n",
       "  'django',\n",
       "  'blazor',\n",
       "  'play framework',\n",
       "  'angular.js',\n",
       "  'node',\n",
       "  'laravel',\n",
       "  'vue',\n",
       "  'drupal',\n",
       "  'ember.js',\n",
       "  'nuxt.js',\n",
       "  'deno',\n",
       "  'angular',\n",
       "  'asp.net',\n",
       "  'svelte',\n",
       "  'fastapi',\n",
       "  'vue.js'],\n",
       " 'sync': ['ringcentral',\n",
       "  'twilio',\n",
       "  'wire',\n",
       "  'zoom',\n",
       "  'microsoft teams',\n",
       "  'google chat',\n",
       "  'webex',\n",
       "  'symphony',\n",
       "  'mattermost',\n",
       "  'unify',\n",
       "  'slack']}"
      ]
     },
     "execution_count": 12,
     "metadata": {},
     "output_type": "execute_result"
    }
   ],
   "source": [
    "df_technology = df_european_cleaned_copy['job_type_skills'].copy()\n",
    "\n",
    "# remove duplicates\n",
    "df_technology = df_technology.drop_duplicates()\n",
    "\n",
    "# remove NaN values\n",
    "df_technology = df_technology.dropna()\n",
    "\n",
    "# combine all dictionaries into one\n",
    "technology_dict = {}\n",
    "for row in df_technology:\n",
    "    row_dict = ast.literal_eval(row)  # convert string to dictionary\n",
    "    for key, value in row_dict.items():\n",
    "        if key in technology_dict:  # if key already exists in technology_dict, add value to existing value\n",
    "            technology_dict[key] += value\n",
    "        else:                       # if key does not exist in technology_dict, add key and value\n",
    "            technology_dict[key] = value\n",
    "\n",
    "# remove duplicates by converting values to set then back to list\n",
    "for key, value in technology_dict.items():\n",
    "    technology_dict[key] = list(set(value))\n",
    "\n",
    "technology_dict"
   ]
  },
  {
   "cell_type": "markdown",
   "metadata": {},
   "source": [
    "This code converts a dictionary into a pandas DataFrame, then explodes the 'skills' column, creating multiple rows for each 'technology' entry if it contains multiple skills."
   ]
  },
  {
   "cell_type": "code",
   "execution_count": 13,
   "metadata": {},
   "outputs": [
    {
     "data": {
      "application/vnd.microsoft.datawrangler.viewer.v0+json": {
       "columns": [
        {
         "name": "index",
         "rawType": "int64",
         "type": "integer"
        },
        {
         "name": "technology",
         "rawType": "object",
         "type": "string"
        },
        {
         "name": "skills",
         "rawType": "object",
         "type": "string"
        }
       ],
       "ref": "1d9a0886-0b27-4043-8d64-c48a3148b53b",
       "rows": [
        [
         "0",
         "analyst_tools",
         "looker"
        ],
        [
         "0",
         "analyst_tools",
         "cognos"
        ],
        [
         "0",
         "analyst_tools",
         "word"
        ],
        [
         "0",
         "analyst_tools",
         "excel"
        ],
        [
         "0",
         "analyst_tools",
         "spss"
        ],
        [
         "0",
         "analyst_tools",
         "sap"
        ],
        [
         "0",
         "analyst_tools",
         "alteryx"
        ],
        [
         "0",
         "analyst_tools",
         "visio"
        ],
        [
         "0",
         "analyst_tools",
         "ms access"
        ],
        [
         "0",
         "analyst_tools",
         "esquisse"
        ],
        [
         "0",
         "analyst_tools",
         "datarobot"
        ],
        [
         "0",
         "analyst_tools",
         "outlook"
        ],
        [
         "0",
         "analyst_tools",
         "power bi"
        ],
        [
         "0",
         "analyst_tools",
         "qlik"
        ],
        [
         "0",
         "analyst_tools",
         "sas"
        ],
        [
         "0",
         "analyst_tools",
         "microstrategy"
        ],
        [
         "0",
         "analyst_tools",
         "sheets"
        ],
        [
         "0",
         "analyst_tools",
         "nuix"
        ],
        [
         "0",
         "analyst_tools",
         "tableau"
        ],
        [
         "0",
         "analyst_tools",
         "dax"
        ],
        [
         "0",
         "analyst_tools",
         "spreadsheet"
        ],
        [
         "0",
         "analyst_tools",
         "sharepoint"
        ],
        [
         "0",
         "analyst_tools",
         "powerpoint"
        ],
        [
         "0",
         "analyst_tools",
         "splunk"
        ],
        [
         "0",
         "analyst_tools",
         "powerbi"
        ],
        [
         "0",
         "analyst_tools",
         "ssis"
        ],
        [
         "0",
         "analyst_tools",
         "ssrs"
        ],
        [
         "1",
         "cloud",
         "gcp"
        ],
        [
         "1",
         "cloud",
         "ibm cloud"
        ],
        [
         "1",
         "cloud",
         "ovh"
        ],
        [
         "1",
         "cloud",
         "heroku"
        ],
        [
         "1",
         "cloud",
         "databricks"
        ],
        [
         "1",
         "cloud",
         "oracle"
        ],
        [
         "1",
         "cloud",
         "aws"
        ],
        [
         "1",
         "cloud",
         "colocation"
        ],
        [
         "1",
         "cloud",
         "vmware"
        ],
        [
         "1",
         "cloud",
         "openstack"
        ],
        [
         "1",
         "cloud",
         "bigquery"
        ],
        [
         "1",
         "cloud",
         "firebase"
        ],
        [
         "1",
         "cloud",
         "digitalocean"
        ],
        [
         "1",
         "cloud",
         "redshift"
        ],
        [
         "1",
         "cloud",
         "watson"
        ],
        [
         "1",
         "cloud",
         "linode"
        ],
        [
         "1",
         "cloud",
         "aurora"
        ],
        [
         "1",
         "cloud",
         "azure"
        ],
        [
         "1",
         "cloud",
         "snowflake"
        ],
        [
         "2",
         "libraries",
         "cordova"
        ],
        [
         "2",
         "libraries",
         "spark"
        ],
        [
         "2",
         "libraries",
         "pyspark"
        ],
        [
         "2",
         "libraries",
         "seaborn"
        ]
       ],
       "shape": {
        "columns": 2,
        "rows": 248
       }
      },
      "text/html": [
       "<div>\n",
       "<style scoped>\n",
       "    .dataframe tbody tr th:only-of-type {\n",
       "        vertical-align: middle;\n",
       "    }\n",
       "\n",
       "    .dataframe tbody tr th {\n",
       "        vertical-align: top;\n",
       "    }\n",
       "\n",
       "    .dataframe thead th {\n",
       "        text-align: right;\n",
       "    }\n",
       "</style>\n",
       "<table border=\"1\" class=\"dataframe\">\n",
       "  <thead>\n",
       "    <tr style=\"text-align: right;\">\n",
       "      <th></th>\n",
       "      <th>technology</th>\n",
       "      <th>skills</th>\n",
       "    </tr>\n",
       "  </thead>\n",
       "  <tbody>\n",
       "    <tr>\n",
       "      <th>0</th>\n",
       "      <td>analyst_tools</td>\n",
       "      <td>looker</td>\n",
       "    </tr>\n",
       "    <tr>\n",
       "      <th>0</th>\n",
       "      <td>analyst_tools</td>\n",
       "      <td>cognos</td>\n",
       "    </tr>\n",
       "    <tr>\n",
       "      <th>0</th>\n",
       "      <td>analyst_tools</td>\n",
       "      <td>word</td>\n",
       "    </tr>\n",
       "    <tr>\n",
       "      <th>0</th>\n",
       "      <td>analyst_tools</td>\n",
       "      <td>excel</td>\n",
       "    </tr>\n",
       "    <tr>\n",
       "      <th>0</th>\n",
       "      <td>analyst_tools</td>\n",
       "      <td>spss</td>\n",
       "    </tr>\n",
       "    <tr>\n",
       "      <th>...</th>\n",
       "      <td>...</td>\n",
       "      <td>...</td>\n",
       "    </tr>\n",
       "    <tr>\n",
       "      <th>9</th>\n",
       "      <td>sync</td>\n",
       "      <td>webex</td>\n",
       "    </tr>\n",
       "    <tr>\n",
       "      <th>9</th>\n",
       "      <td>sync</td>\n",
       "      <td>symphony</td>\n",
       "    </tr>\n",
       "    <tr>\n",
       "      <th>9</th>\n",
       "      <td>sync</td>\n",
       "      <td>mattermost</td>\n",
       "    </tr>\n",
       "    <tr>\n",
       "      <th>9</th>\n",
       "      <td>sync</td>\n",
       "      <td>unify</td>\n",
       "    </tr>\n",
       "    <tr>\n",
       "      <th>9</th>\n",
       "      <td>sync</td>\n",
       "      <td>slack</td>\n",
       "    </tr>\n",
       "  </tbody>\n",
       "</table>\n",
       "<p>248 rows × 2 columns</p>\n",
       "</div>"
      ],
      "text/plain": [
       "       technology      skills\n",
       "0   analyst_tools      looker\n",
       "0   analyst_tools      cognos\n",
       "0   analyst_tools        word\n",
       "0   analyst_tools       excel\n",
       "0   analyst_tools        spss\n",
       "..            ...         ...\n",
       "9            sync       webex\n",
       "9            sync    symphony\n",
       "9            sync  mattermost\n",
       "9            sync       unify\n",
       "9            sync       slack\n",
       "\n",
       "[248 rows x 2 columns]"
      ]
     },
     "execution_count": 13,
     "metadata": {},
     "output_type": "execute_result"
    }
   ],
   "source": [
    "# turn dictionary into dataframe\n",
    "df_technology = pd.DataFrame(list(technology_dict.items()), columns=['technology', 'skills'])\n",
    "\n",
    "df_technology = df_technology.explode('skills')\n",
    "\n",
    "df_technology\n"
   ]
  },
  {
   "cell_type": "markdown",
   "metadata": {},
   "source": [
    "Merges two DataFrames, `df_DA_skills` and `df_technology`, based on the columns 'job_skills' and 'skills' respectively, creating a new DataFrame `df_DA_skills_tech`."
   ]
  },
  {
   "cell_type": "code",
   "execution_count": 14,
   "metadata": {},
   "outputs": [
    {
     "data": {
      "application/vnd.microsoft.datawrangler.viewer.v0+json": {
       "columns": [
        {
         "name": "index",
         "rawType": "int64",
         "type": "integer"
        },
        {
         "name": "skill_count",
         "rawType": "int64",
         "type": "integer"
        },
        {
         "name": "mean_salary",
         "rawType": "float64",
         "type": "float"
        },
        {
         "name": "skill_percent",
         "rawType": "float64",
         "type": "float"
        },
        {
         "name": "technology",
         "rawType": "object",
         "type": "string"
        },
        {
         "name": "skills",
         "rawType": "object",
         "type": "string"
        }
       ],
       "ref": "aecb68ca-c7f0-4aef-a5b1-ddc40c946588",
       "rows": [
        [
         "0",
         "32360",
         "89120.0588380717",
         "44.660354964255156",
         "programming",
         "sql"
        ],
        [
         "1",
         "21643",
         "89141.14967888001",
         "29.86971762952331",
         "programming",
         "python"
        ],
        [
         "2",
         "20564",
         "89036.00508169617",
         "28.380579094095893",
         "analyst_tools",
         "excel"
        ],
        [
         "3",
         "16432",
         "89089.00502069133",
         "22.677965166027217",
         "analyst_tools",
         "power bi"
        ],
        [
         "4",
         "13979",
         "89088.60354817941",
         "19.29255568743272",
         "analyst_tools",
         "tableau"
        ],
        [
         "5",
         "9808",
         "89111.05148858075",
         "13.536117474951007",
         "programming",
         "r"
        ],
        [
         "6",
         "8118",
         "89085.9164818921",
         "11.203731817052637",
         "analyst_tools",
         "sas"
        ],
        [
         "7",
         "8118",
         "89085.9164818921",
         "11.203731817052637",
         "programming",
         "sas"
        ],
        [
         "8",
         "5156",
         "89104.22430178433",
         "7.115846421375141",
         "analyst_tools",
         "sap"
        ],
        [
         "9",
         "4902",
         "89343.32048143615",
         "6.765298517762014",
         "cloud",
         "azure"
        ],
        [
         "10",
         "3244",
         "89012.18834771887",
         "4.477076375279472",
         "analyst_tools",
         "powerpoint"
        ],
        [
         "11",
         "3119",
         "89077.33376082078",
         "4.304562643186398",
         "programming",
         "vba"
        ],
        [
         "12",
         "2927",
         "89073.69080970276",
         "4.039581550691436",
         "analyst_tools",
         "qlik"
        ],
        [
         "13",
         "2896",
         "88992.44958563536",
         "3.996798145132353",
         "programming",
         "go"
        ],
        [
         "14",
         "2828",
         "89344.67291371994",
         "3.90295067487372",
         "cloud",
         "aws"
        ],
        [
         "15",
         "2698",
         "89219.14121571534",
         "3.723536393496922",
         "analyst_tools",
         "looker"
        ],
        [
         "16",
         "2633",
         "89025.7949107482",
         "3.633829252808524",
         "analyst_tools",
         "word"
        ],
        [
         "17",
         "2512",
         "89251.45859872611",
         "3.4668359601424275",
         "cloud",
         "oracle"
        ],
        [
         "18",
         "2197",
         "89307.41215293582",
         "3.032101355267879",
         "databases",
         "sql server"
        ],
        [
         "19",
         "1866",
         "89268.18863879958",
         "2.5752849926854178",
         "cloud",
         "snowflake"
        ],
        [
         "20",
         "1850",
         "89224.32189189189",
         "2.553203234977504",
         "cloud",
         "bigquery"
        ],
        [
         "21",
         "1750",
         "89157.23257142857",
         "2.4151922493030447",
         "analyst_tools",
         "dax"
        ],
        [
         "22",
         "1711",
         "89613.77206312098",
         "2.3613679648900052",
         "libraries",
         "spark"
        ],
        [
         "23",
         "1616",
         "89211.8879950495",
         "2.2302575284992683",
         "programming",
         "java"
        ],
        [
         "24",
         "1595",
         "89339.40877742946",
         "2.201275221507632",
         "cloud",
         "gcp"
        ],
        [
         "25",
         "1520",
         "89384.93618421053",
         "2.0977669822517875",
         "other",
         "flow"
        ],
        [
         "26",
         "1513",
         "89160.88169200264",
         "2.088106213254575",
         "async",
         "jira"
        ],
        [
         "27",
         "1440",
         "89351.43541666666",
         "1.9873581937122193",
         "cloud",
         "databricks"
        ],
        [
         "28",
         "1439",
         "89435.22515635859",
         "1.985978083855475",
         "other",
         "git"
        ],
        [
         "29",
         "1422",
         "89222.63924050632",
         "1.9625162162908167",
         "libraries",
         "pandas"
        ],
        [
         "30",
         "1413",
         "89117.85208775655",
         "1.9500952275801156",
         "libraries",
         "gdpr"
        ],
        [
         "31",
         "1337",
         "89064.32498130143",
         "1.8452068784675262",
         "programming",
         "javascript"
        ],
        [
         "32",
         "1320",
         "89141.89393939394",
         "1.821745010902868",
         "analyst_tools",
         "alteryx"
        ],
        [
         "33",
         "1086",
         "89267.58747697974",
         "1.4987993044246322",
         "databases",
         "mysql"
        ],
        [
         "34",
         "1059",
         "89213.23229461757",
         "1.4615363382925282",
         "libraries",
         "hadoop"
        ],
        [
         "35",
         "1056",
         "89313.74242424243",
         "1.4573960087222944",
         "libraries",
         "airflow"
        ],
        [
         "36",
         "942",
         "89261.14649681529",
         "1.3000634850534103",
         "programming",
         "mongodb"
        ],
        [
         "37",
         "942",
         "89261.14649681529",
         "1.3000634850534103",
         "databases",
         "mongodb"
        ],
        [
         "38",
         "928",
         "89178.46336206897",
         "1.2807419470589858",
         "programming",
         "c"
        ],
        [
         "39",
         "908",
         "88997.8127753304",
         "1.253139749924094",
         "analyst_tools",
         "spss"
        ],
        [
         "40",
         "904",
         "89095.63053097345",
         "1.2476193104971156",
         "analyst_tools",
         "ssis"
        ],
        [
         "41",
         "900",
         "89133.82222222222",
         "1.2420988710701373",
         "analyst_tools",
         "sharepoint"
        ],
        [
         "42",
         "847",
         "89219.48051948052",
         "1.1689530486626736",
         "databases",
         "postgresql"
        ],
        [
         "43",
         "811",
         "89100.0",
         "1.119269093819868",
         "webframeworks",
         "vue"
        ],
        [
         "44",
         "790",
         "89181.36075949368",
         "1.0902867868282315",
         "async",
         "confluence"
        ],
        [
         "45",
         "780",
         "89961.97115384616",
         "1.0764856882607856",
         "programming",
         "nosql"
        ],
        [
         "46",
         "738",
         "89057.69647696477",
         "1.0185210742775124",
         "libraries",
         "pyspark"
        ],
        [
         "47",
         "732",
         "88974.04781420765",
         "1.010240415137045",
         "analyst_tools",
         "outlook"
        ],
        [
         "48",
         "731",
         "89246.35978112175",
         "1.0088603052803002",
         "programming",
         "scala"
        ],
        [
         "49",
         "725",
         "88939.93931034482",
         "1.0005796461398326",
         "analyst_tools",
         "sheets"
        ]
       ],
       "shape": {
        "columns": 5,
        "rows": 225
       }
      },
      "text/html": [
       "<div>\n",
       "<style scoped>\n",
       "    .dataframe tbody tr th:only-of-type {\n",
       "        vertical-align: middle;\n",
       "    }\n",
       "\n",
       "    .dataframe tbody tr th {\n",
       "        vertical-align: top;\n",
       "    }\n",
       "\n",
       "    .dataframe thead th {\n",
       "        text-align: right;\n",
       "    }\n",
       "</style>\n",
       "<table border=\"1\" class=\"dataframe\">\n",
       "  <thead>\n",
       "    <tr style=\"text-align: right;\">\n",
       "      <th></th>\n",
       "      <th>skill_count</th>\n",
       "      <th>mean_salary</th>\n",
       "      <th>skill_percent</th>\n",
       "      <th>technology</th>\n",
       "      <th>skills</th>\n",
       "    </tr>\n",
       "  </thead>\n",
       "  <tbody>\n",
       "    <tr>\n",
       "      <th>0</th>\n",
       "      <td>32360</td>\n",
       "      <td>89120.058838</td>\n",
       "      <td>44.660355</td>\n",
       "      <td>programming</td>\n",
       "      <td>sql</td>\n",
       "    </tr>\n",
       "    <tr>\n",
       "      <th>1</th>\n",
       "      <td>21643</td>\n",
       "      <td>89141.149679</td>\n",
       "      <td>29.869718</td>\n",
       "      <td>programming</td>\n",
       "      <td>python</td>\n",
       "    </tr>\n",
       "    <tr>\n",
       "      <th>2</th>\n",
       "      <td>20564</td>\n",
       "      <td>89036.005082</td>\n",
       "      <td>28.380579</td>\n",
       "      <td>analyst_tools</td>\n",
       "      <td>excel</td>\n",
       "    </tr>\n",
       "    <tr>\n",
       "      <th>3</th>\n",
       "      <td>16432</td>\n",
       "      <td>89089.005021</td>\n",
       "      <td>22.677965</td>\n",
       "      <td>analyst_tools</td>\n",
       "      <td>power bi</td>\n",
       "    </tr>\n",
       "    <tr>\n",
       "      <th>4</th>\n",
       "      <td>13979</td>\n",
       "      <td>89088.603548</td>\n",
       "      <td>19.292556</td>\n",
       "      <td>analyst_tools</td>\n",
       "      <td>tableau</td>\n",
       "    </tr>\n",
       "    <tr>\n",
       "      <th>...</th>\n",
       "      <td>...</td>\n",
       "      <td>...</td>\n",
       "      <td>...</td>\n",
       "      <td>...</td>\n",
       "      <td>...</td>\n",
       "    </tr>\n",
       "    <tr>\n",
       "      <th>220</th>\n",
       "      <td>1</td>\n",
       "      <td>89100.000000</td>\n",
       "      <td>0.001380</td>\n",
       "      <td>libraries</td>\n",
       "      <td>mlr</td>\n",
       "    </tr>\n",
       "    <tr>\n",
       "      <th>221</th>\n",
       "      <td>1</td>\n",
       "      <td>89100.000000</td>\n",
       "      <td>0.001380</td>\n",
       "      <td>cloud</td>\n",
       "      <td>ovh</td>\n",
       "    </tr>\n",
       "    <tr>\n",
       "      <th>222</th>\n",
       "      <td>1</td>\n",
       "      <td>89100.000000</td>\n",
       "      <td>0.001380</td>\n",
       "      <td>webframeworks</td>\n",
       "      <td>nuxt.js</td>\n",
       "    </tr>\n",
       "    <tr>\n",
       "      <th>223</th>\n",
       "      <td>1</td>\n",
       "      <td>89100.000000</td>\n",
       "      <td>0.001380</td>\n",
       "      <td>async</td>\n",
       "      <td>workfront</td>\n",
       "    </tr>\n",
       "    <tr>\n",
       "      <th>224</th>\n",
       "      <td>1</td>\n",
       "      <td>89100.000000</td>\n",
       "      <td>0.001380</td>\n",
       "      <td>libraries</td>\n",
       "      <td>xamarin</td>\n",
       "    </tr>\n",
       "  </tbody>\n",
       "</table>\n",
       "<p>225 rows × 5 columns</p>\n",
       "</div>"
      ],
      "text/plain": [
       "     skill_count   mean_salary  skill_percent     technology     skills\n",
       "0          32360  89120.058838      44.660355    programming        sql\n",
       "1          21643  89141.149679      29.869718    programming     python\n",
       "2          20564  89036.005082      28.380579  analyst_tools      excel\n",
       "3          16432  89089.005021      22.677965  analyst_tools   power bi\n",
       "4          13979  89088.603548      19.292556  analyst_tools    tableau\n",
       "..           ...           ...            ...            ...        ...\n",
       "220            1  89100.000000       0.001380      libraries        mlr\n",
       "221            1  89100.000000       0.001380          cloud        ovh\n",
       "222            1  89100.000000       0.001380  webframeworks    nuxt.js\n",
       "223            1  89100.000000       0.001380          async  workfront\n",
       "224            1  89100.000000       0.001380      libraries    xamarin\n",
       "\n",
       "[225 rows x 5 columns]"
      ]
     },
     "execution_count": 14,
     "metadata": {},
     "output_type": "execute_result"
    }
   ],
   "source": [
    "# merge df_DA_skills and df_technology\n",
    "df_DA_skills_tech = df_DA_skills.merge(df_technology, left_on='job_skills', right_on='skills')\n",
    "\n",
    "df_DA_skills_tech"
   ]
  },
  {
   "cell_type": "markdown",
   "metadata": {},
   "source": [
    "Filters `df_DA_skills_tech` to select rows where the 'percent' column exceeds a specified threshold, storing the result in `df_DA_skills_tech_high_demand`. "
   ]
  },
  {
   "cell_type": "code",
   "execution_count": 15,
   "metadata": {},
   "outputs": [],
   "source": [
    "df_DA_skills_tech_high_demand = df_DA_skills_tech[df_DA_skills_tech['skill_percent'] > skill_limit]"
   ]
  },
  {
   "cell_type": "markdown",
   "metadata": {},
   "source": [
    "Plot the results in a scatter plot, coloring the points based on the 'technology' column."
   ]
  },
  {
   "cell_type": "code",
   "execution_count": 16,
   "metadata": {},
   "outputs": [
    {
     "data": {
      "image/png": "[encoded data removed]",
      "text/plain": [
       "<Figure size 640x480 with 1 Axes>"
      ]
     },
     "metadata": {},
     "output_type": "display_data"
    }
   ],
   "source": [
    "sns.scatterplot(\n",
    "    data=df_DA_skills_tech_high_demand,\n",
    "    x='skill_percent',\n",
    "    y='mean_salary',\n",
    "    hue='technology'\n",
    ")\n",
    "\n",
    "sns.despine()\n",
    "sns.set_theme(style='ticks')\n",
    "\n",
    "# Prepare texts for adjustText\n",
    "texts = []\n",
    "for i, txt in enumerate(df_DA_skills_high_demand.index):\n",
    "    texts.append(plt.text(df_DA_skills_high_demand['skill_percent'].iloc[i], df_DA_skills_high_demand['mean_salary'].iloc[i], txt))\n",
    "\n",
    "# Adjust text to avoid overlap\n",
    "adjust_text(texts, arrowprops=dict(arrowstyle='->', color='gray'))\n",
    "\n",
    "# Set axis labels, title, and legend\n",
    "plt.xlabel('Percent of Data Analyst Jobs')\n",
    "plt.ylabel('Median Yearly Salary')\n",
    "plt.title('Most Optimal Skills for Data Analysts in the Europe')\n",
    "plt.legend(title='Technology')\n",
    "\n",
    "from matplotlib.ticker import PercentFormatter\n",
    "ax = plt.gca()\n",
    "ax.yaxis.set_major_formatter(plt.FuncFormatter(lambda y, pos: f'${int(y/1000)}K'))\n",
    "ax.xaxis.set_major_formatter(PercentFormatter(decimals=0))\n",
    "\n",
    "# Adjust layout and display plot \n",
    "plt.tight_layout()\n",
    "plt.show()"
   ]
  }
 ],
 "metadata": {
  "kernelspec": {
   "display_name": "Python 3",
   "language": "python",
   "name": "python3"
  },
  "language_info": {
   "codemirror_mode": {
    "name": "ipython",
    "version": 3
   },
   "file_extension": ".py",
   "mimetype": "text/x-python",
   "name": "python",
   "nbconvert_exporter": "python",
   "pygments_lexer": "ipython3",
   "version": "3.13.2"
  }
 },
 "nbformat": 4,
 "nbformat_minor": 2
}
