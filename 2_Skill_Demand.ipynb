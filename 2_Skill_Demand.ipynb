{
 "cells": [
  {
   "cell_type": "markdown",
   "id": "e2276333",
   "metadata": {},
   "source": [
    "<a target=\"_blank\" href=\"https://colab.research.google.com/github/lukebarousse/Python_Data_Analytics_Course/blob/main/3_Project/2_Skill_Demand.ipynb\">\n",
    "  <img src=\"https://colab.research.google.com/assets/colab-badge.svg\" alt=\"Open In Colab\"/>\n",
    "</a>"
   ]
  },
  {
   "cell_type": "markdown",
   "metadata": {},
   "source": [
    "# What are the most demanded skills for the top 3 most popular data roles?\n",
    "\n",
    "#### Methodology\n",
    "1. Clean-up skill column\n",
    "2. Calculate skill count based on `job_title_short`\n",
    "3. Calculate skill percentage\n",
    "4. Plot final findings\n",
    "\n",
    "#### Original Exploration\n",
    "[13_Matplotlib_Format_Charts.ipynb](../2_Advanced/13_Matplotlib_Format_Charts.ipynb)"
   ]
  },
  {
   "cell_type": "markdown",
   "metadata": {},
   "source": [
    "## Import Libraries and Data"
   ]
  },
  {
   "cell_type": "code",
   "execution_count": 1,
   "metadata": {},
   "outputs": [],
   "source": [
    "# Importing Libraries\n",
    "import ast\n",
    "import pandas as pd\n",
    "import seaborn as sns\n",
    "from datasets import load_dataset\n",
    "import matplotlib.pyplot as plt  \n",
    "\n",
    "# Loading Data\n",
    "df_european_cleaned = pd.read_csv(\"df_european_cleaned_copy.csv\")"
   ]
  },
  {
   "cell_type": "code",
   "execution_count": 9,
   "metadata": {},
   "outputs": [],
   "source": [
    "## Converting 'job_skills' column to list\n",
    "df_european_cleaned['job_skills'] = df_european_cleaned['job_skills'].apply(lambda x: ast.literal_eval(x) if isinstance(x, str) else x)"
   ]
  },
  {
   "cell_type": "markdown",
   "metadata": {},
   "source": [
    "## Explode Skills"
   ]
  },
  {
   "cell_type": "markdown",
   "metadata": {},
   "source": [
    "Converts the `job_skills` column from string representations of lists into actual list objects and then expands these lists so each skill appears in its own row. It then displays the `job_title` and `job_skills` columns, allowing us to analyze the distribution of skills across different data job titles."
   ]
  },
  {
   "cell_type": "code",
   "execution_count": 10,
   "metadata": {},
   "outputs": [],
   "source": [
    "df_eu_fianl = df_european_cleaned.dropna(subset=['job_skills'])"
   ]
  },
  {
   "cell_type": "code",
   "execution_count": 11,
   "metadata": {},
   "outputs": [],
   "source": [
    "df_skills = df_eu_fianl.explode('job_skills')"
   ]
  },
  {
   "cell_type": "code",
   "execution_count": 12,
   "metadata": {},
   "outputs": [
    {
     "data": {
      "application/vnd.microsoft.datawrangler.viewer.v0+json": {
       "columns": [
        {
         "name": "index",
         "rawType": "int64",
         "type": "integer"
        },
        {
         "name": "job_title_short",
         "rawType": "object",
         "type": "string"
        },
        {
         "name": "job_skills",
         "rawType": "object",
         "type": "string"
        }
       ],
       "ref": "a0a58eea-d11a-41f3-8449-fea5d48885fc",
       "rows": [
        [
         "0",
         "Data Engineer",
         "python"
        ],
        [
         "0",
         "Data Engineer",
         "sql"
        ],
        [
         "0",
         "Data Engineer",
         "c#"
        ],
        [
         "0",
         "Data Engineer",
         "azure"
        ],
        [
         "0",
         "Data Engineer",
         "airflow"
        ],
        [
         "0",
         "Data Engineer",
         "dax"
        ],
        [
         "0",
         "Data Engineer",
         "docker"
        ],
        [
         "0",
         "Data Engineer",
         "kubernetes"
        ],
        [
         "0",
         "Data Engineer",
         "jenkins"
        ],
        [
         "1",
         "Data Engineer",
         "sql"
        ],
        [
         "1",
         "Data Engineer",
         "nosql"
        ],
        [
         "1",
         "Data Engineer",
         "gcp"
        ],
        [
         "1",
         "Data Engineer",
         "azure"
        ],
        [
         "1",
         "Data Engineer",
         "aws"
        ],
        [
         "1",
         "Data Engineer",
         "bigquery"
        ],
        [
         "1",
         "Data Engineer",
         "databricks"
        ],
        [
         "1",
         "Data Engineer",
         "redshift"
        ],
        [
         "1",
         "Data Engineer",
         "airflow"
        ],
        [
         "1",
         "Data Engineer",
         "kafka"
        ],
        [
         "1",
         "Data Engineer",
         "spark"
        ],
        [
         "2",
         "Business Analyst",
         "excel"
        ],
        [
         "2",
         "Business Analyst",
         "powerpoint"
        ],
        [
         "2",
         "Business Analyst",
         "power bi"
        ],
        [
         "3",
         "Data Engineer",
         "python"
        ],
        [
         "3",
         "Data Engineer",
         "databricks"
        ],
        [
         "3",
         "Data Engineer",
         "azure"
        ],
        [
         "3",
         "Data Engineer",
         "spark"
        ],
        [
         "4",
         "Data Analyst",
         "sql"
        ],
        [
         "4",
         "Data Analyst",
         "php"
        ],
        [
         "4",
         "Data Analyst",
         "excel"
        ],
        [
         "4",
         "Data Analyst",
         "power bi"
        ],
        [
         "4",
         "Data Analyst",
         "sap"
        ],
        [
         "4",
         "Data Analyst",
         "jira"
        ],
        [
         "5",
         "Data Engineer",
         "python"
        ],
        [
         "5",
         "Data Engineer",
         "sql"
        ],
        [
         "5",
         "Data Engineer",
         "power bi"
        ],
        [
         "6",
         "Data Analyst",
         "sql"
        ],
        [
         "6",
         "Data Analyst",
         "python"
        ],
        [
         "6",
         "Data Analyst",
         "r"
        ],
        [
         "6",
         "Data Analyst",
         "redshift"
        ],
        [
         "6",
         "Data Analyst",
         "pandas"
        ],
        [
         "6",
         "Data Analyst",
         "excel"
        ],
        [
         "6",
         "Data Analyst",
         "looker"
        ],
        [
         "6",
         "Data Analyst",
         "tableau"
        ],
        [
         "7",
         "Data Scientist",
         "r"
        ],
        [
         "7",
         "Data Scientist",
         "python"
        ],
        [
         "7",
         "Data Scientist",
         "sql"
        ],
        [
         "7",
         "Data Scientist",
         "pandas"
        ],
        [
         "7",
         "Data Scientist",
         "numpy"
        ],
        [
         "7",
         "Data Scientist",
         "scikit-learn"
        ]
       ],
       "shape": {
        "columns": 2,
        "rows": 1258865
       }
      },
      "text/html": [
       "<div>\n",
       "<style scoped>\n",
       "    .dataframe tbody tr th:only-of-type {\n",
       "        vertical-align: middle;\n",
       "    }\n",
       "\n",
       "    .dataframe tbody tr th {\n",
       "        vertical-align: top;\n",
       "    }\n",
       "\n",
       "    .dataframe thead th {\n",
       "        text-align: right;\n",
       "    }\n",
       "</style>\n",
       "<table border=\"1\" class=\"dataframe\">\n",
       "  <thead>\n",
       "    <tr style=\"text-align: right;\">\n",
       "      <th></th>\n",
       "      <th>job_title_short</th>\n",
       "      <th>job_skills</th>\n",
       "    </tr>\n",
       "  </thead>\n",
       "  <tbody>\n",
       "    <tr>\n",
       "      <th>0</th>\n",
       "      <td>Data Engineer</td>\n",
       "      <td>python</td>\n",
       "    </tr>\n",
       "    <tr>\n",
       "      <th>0</th>\n",
       "      <td>Data Engineer</td>\n",
       "      <td>sql</td>\n",
       "    </tr>\n",
       "    <tr>\n",
       "      <th>0</th>\n",
       "      <td>Data Engineer</td>\n",
       "      <td>c#</td>\n",
       "    </tr>\n",
       "    <tr>\n",
       "      <th>0</th>\n",
       "      <td>Data Engineer</td>\n",
       "      <td>azure</td>\n",
       "    </tr>\n",
       "    <tr>\n",
       "      <th>0</th>\n",
       "      <td>Data Engineer</td>\n",
       "      <td>airflow</td>\n",
       "    </tr>\n",
       "    <tr>\n",
       "      <th>...</th>\n",
       "      <td>...</td>\n",
       "      <td>...</td>\n",
       "    </tr>\n",
       "    <tr>\n",
       "      <th>291231</th>\n",
       "      <td>Senior Data Engineer</td>\n",
       "      <td>docker</td>\n",
       "    </tr>\n",
       "    <tr>\n",
       "      <th>291232</th>\n",
       "      <td>Data Analyst</td>\n",
       "      <td>sas</td>\n",
       "    </tr>\n",
       "    <tr>\n",
       "      <th>291232</th>\n",
       "      <td>Data Analyst</td>\n",
       "      <td>sas</td>\n",
       "    </tr>\n",
       "    <tr>\n",
       "      <th>291232</th>\n",
       "      <td>Data Analyst</td>\n",
       "      <td>sql</td>\n",
       "    </tr>\n",
       "    <tr>\n",
       "      <th>291232</th>\n",
       "      <td>Data Analyst</td>\n",
       "      <td>excel</td>\n",
       "    </tr>\n",
       "  </tbody>\n",
       "</table>\n",
       "<p>1258865 rows × 2 columns</p>\n",
       "</div>"
      ],
      "text/plain": [
       "             job_title_short job_skills\n",
       "0              Data Engineer     python\n",
       "0              Data Engineer        sql\n",
       "0              Data Engineer         c#\n",
       "0              Data Engineer      azure\n",
       "0              Data Engineer    airflow\n",
       "...                      ...        ...\n",
       "291231  Senior Data Engineer     docker\n",
       "291232          Data Analyst        sas\n",
       "291232          Data Analyst        sas\n",
       "291232          Data Analyst        sql\n",
       "291232          Data Analyst      excel\n",
       "\n",
       "[1258865 rows x 2 columns]"
      ]
     },
     "execution_count": 12,
     "metadata": {},
     "output_type": "execute_result"
    }
   ],
   "source": [
    "df_skills[['job_title_short', 'job_skills']]"
   ]
  },
  {
   "cell_type": "markdown",
   "metadata": {},
   "source": [
    "## Count Skills per Job Title\n",
    "\n",
    "Groups DataFrame by `job_skills` and `job_title_short`, counting the occurrences of each skill within each job title. Then resets the index of the Series to turn it back into a DataFrame and renames the series holding the count to 'count'. The final DataFrame, `df_skills_count`, shows the frequency of each skill with each job title."
   ]
  },
  {
   "cell_type": "code",
   "execution_count": 13,
   "metadata": {},
   "outputs": [
    {
     "data": {
      "application/vnd.microsoft.datawrangler.viewer.v0+json": {
       "columns": [
        {
         "name": "index",
         "rawType": "int64",
         "type": "integer"
        },
        {
         "name": "job_skills",
         "rawType": "object",
         "type": "string"
        },
        {
         "name": "job_title_short",
         "rawType": "object",
         "type": "string"
        },
        {
         "name": "skill_count",
         "rawType": "int64",
         "type": "integer"
        }
       ],
       "ref": "ac3c222c-e5be-4047-a48f-48549346d9df",
       "rows": [
        [
         "1359",
         "python",
         "Data Engineer",
         "42292"
        ],
        [
         "1678",
         "sql",
         "Data Engineer",
         "42205"
        ],
        [
         "1360",
         "python",
         "Data Scientist",
         "37662"
        ],
        [
         "1677",
         "sql",
         "Data Analyst",
         "32360"
        ],
        [
         "134",
         "azure",
         "Data Engineer",
         "26263"
        ],
        [
         "1679",
         "sql",
         "Data Scientist",
         "23141"
        ],
        [
         "1358",
         "python",
         "Data Analyst",
         "21643"
        ],
        [
         "124",
         "aws",
         "Data Engineer",
         "21453"
        ],
        [
         "499",
         "excel",
         "Data Analyst",
         "20564"
        ],
        [
         "1628",
         "spark",
         "Data Engineer",
         "19574"
        ],
        [
         "1291",
         "power bi",
         "Data Analyst",
         "16432"
        ],
        [
         "1397",
         "r",
         "Data Scientist",
         "16002"
        ],
        [
         "1790",
         "tableau",
         "Data Analyst",
         "13979"
        ],
        [
         "767",
         "java",
         "Data Engineer",
         "12279"
        ],
        [
         "837",
         "kafka",
         "Data Engineer",
         "10999"
        ],
        [
         "1523",
         "scala",
         "Data Engineer",
         "10877"
        ],
        [
         "351",
         "databricks",
         "Data Engineer",
         "10821"
        ],
        [
         "1363",
         "python",
         "Senior Data Engineer",
         "10515"
        ],
        [
         "3",
         "airflow",
         "Data Engineer",
         "9974"
        ],
        [
         "1395",
         "r",
         "Data Analyst",
         "9808"
        ],
        [
         "1682",
         "sql",
         "Senior Data Engineer",
         "9649"
        ],
        [
         "605",
         "gcp",
         "Data Engineer",
         "9365"
        ],
        [
         "704",
         "hadoop",
         "Data Engineer",
         "9212"
        ],
        [
         "1364",
         "python",
         "Senior Data Scientist",
         "8577"
        ],
        [
         "632",
         "git",
         "Data Engineer",
         "8549"
        ],
        [
         "1608",
         "snowflake",
         "Data Engineer",
         "8202"
        ],
        [
         "1503",
         "sas",
         "Data Analyst",
         "8118"
        ],
        [
         "1292",
         "power bi",
         "Data Engineer",
         "8040"
        ],
        [
         "135",
         "azure",
         "Data Scientist",
         "7883"
        ],
        [
         "125",
         "aws",
         "Data Scientist",
         "7718"
        ],
        [
         "425",
         "docker",
         "Data Engineer",
         "7653"
        ],
        [
         "1505",
         "sas",
         "Data Scientist",
         "7046"
        ],
        [
         "1110",
         "nosql",
         "Data Engineer",
         "7022"
        ],
        [
         "870",
         "kubernetes",
         "Data Engineer",
         "7004"
        ],
        [
         "1365",
         "python",
         "Software Engineer",
         "6710"
        ],
        [
         "128",
         "aws",
         "Senior Data Engineer",
         "6571"
        ],
        [
         "138",
         "azure",
         "Senior Data Engineer",
         "6443"
        ],
        [
         "1629",
         "spark",
         "Data Scientist",
         "6312"
        ],
        [
         "1015",
         "mongodb",
         "Data Engineer",
         "6244"
        ],
        [
         "1792",
         "tableau",
         "Data Scientist",
         "6140"
        ],
        [
         "1675",
         "sql",
         "Business Analyst",
         "5794"
        ],
        [
         "1802",
         "tensorflow",
         "Data Scientist",
         "5743"
        ],
        [
         "1791",
         "tableau",
         "Data Engineer",
         "5694"
        ],
        [
         "1213",
         "pandas",
         "Data Scientist",
         "5514"
        ],
        [
         "1688",
         "sql server",
         "Data Engineer",
         "5497"
        ],
        [
         "1683",
         "sql",
         "Senior Data Scientist",
         "5382"
        ],
        [
         "1632",
         "spark",
         "Senior Data Engineer",
         "5190"
        ],
        [
         "1493",
         "sap",
         "Data Analyst",
         "5156"
        ],
        [
         "633",
         "git",
         "Data Scientist",
         "5081"
        ],
        [
         "497",
         "excel",
         "Business Analyst",
         "5031"
        ]
       ],
       "shape": {
        "columns": 3,
        "rows": 2082
       }
      },
      "text/html": [
       "<div>\n",
       "<style scoped>\n",
       "    .dataframe tbody tr th:only-of-type {\n",
       "        vertical-align: middle;\n",
       "    }\n",
       "\n",
       "    .dataframe tbody tr th {\n",
       "        vertical-align: top;\n",
       "    }\n",
       "\n",
       "    .dataframe thead th {\n",
       "        text-align: right;\n",
       "    }\n",
       "</style>\n",
       "<table border=\"1\" class=\"dataframe\">\n",
       "  <thead>\n",
       "    <tr style=\"text-align: right;\">\n",
       "      <th></th>\n",
       "      <th>job_skills</th>\n",
       "      <th>job_title_short</th>\n",
       "      <th>skill_count</th>\n",
       "    </tr>\n",
       "  </thead>\n",
       "  <tbody>\n",
       "    <tr>\n",
       "      <th>1359</th>\n",
       "      <td>python</td>\n",
       "      <td>Data Engineer</td>\n",
       "      <td>42292</td>\n",
       "    </tr>\n",
       "    <tr>\n",
       "      <th>1678</th>\n",
       "      <td>sql</td>\n",
       "      <td>Data Engineer</td>\n",
       "      <td>42205</td>\n",
       "    </tr>\n",
       "    <tr>\n",
       "      <th>1360</th>\n",
       "      <td>python</td>\n",
       "      <td>Data Scientist</td>\n",
       "      <td>37662</td>\n",
       "    </tr>\n",
       "    <tr>\n",
       "      <th>1677</th>\n",
       "      <td>sql</td>\n",
       "      <td>Data Analyst</td>\n",
       "      <td>32360</td>\n",
       "    </tr>\n",
       "    <tr>\n",
       "      <th>134</th>\n",
       "      <td>azure</td>\n",
       "      <td>Data Engineer</td>\n",
       "      <td>26263</td>\n",
       "    </tr>\n",
       "    <tr>\n",
       "      <th>...</th>\n",
       "      <td>...</td>\n",
       "      <td>...</td>\n",
       "      <td>...</td>\n",
       "    </tr>\n",
       "    <tr>\n",
       "      <th>2049</th>\n",
       "      <td>wrike</td>\n",
       "      <td>Senior Data Analyst</td>\n",
       "      <td>1</td>\n",
       "    </tr>\n",
       "    <tr>\n",
       "      <th>2047</th>\n",
       "      <td>wrike</td>\n",
       "      <td>Data Engineer</td>\n",
       "      <td>1</td>\n",
       "    </tr>\n",
       "    <tr>\n",
       "      <th>2045</th>\n",
       "      <td>wrike</td>\n",
       "      <td>Business Analyst</td>\n",
       "      <td>1</td>\n",
       "    </tr>\n",
       "    <tr>\n",
       "      <th>11</th>\n",
       "      <td>airtable</td>\n",
       "      <td>Cloud Engineer</td>\n",
       "      <td>1</td>\n",
       "    </tr>\n",
       "    <tr>\n",
       "      <th>15</th>\n",
       "      <td>airtable</td>\n",
       "      <td>Machine Learning Engineer</td>\n",
       "      <td>1</td>\n",
       "    </tr>\n",
       "  </tbody>\n",
       "</table>\n",
       "<p>2082 rows × 3 columns</p>\n",
       "</div>"
      ],
      "text/plain": [
       "     job_skills            job_title_short  skill_count\n",
       "1359     python              Data Engineer        42292\n",
       "1678        sql              Data Engineer        42205\n",
       "1360     python             Data Scientist        37662\n",
       "1677        sql               Data Analyst        32360\n",
       "134       azure              Data Engineer        26263\n",
       "...         ...                        ...          ...\n",
       "2049      wrike        Senior Data Analyst            1\n",
       "2047      wrike              Data Engineer            1\n",
       "2045      wrike           Business Analyst            1\n",
       "11     airtable             Cloud Engineer            1\n",
       "15     airtable  Machine Learning Engineer            1\n",
       "\n",
       "[2082 rows x 3 columns]"
      ]
     },
     "execution_count": 13,
     "metadata": {},
     "output_type": "execute_result"
    }
   ],
   "source": [
    "# Group by job_skills and job_title_short and count the number of occurrences\n",
    "df_skills_count = df_skills.groupby(['job_skills', 'job_title_short']).size()\n",
    "\n",
    "# Name the count column as count\n",
    "df_skills_count = df_skills_count.reset_index(name='skill_count')\n",
    "\n",
    "# Sort the values by skill_count in descending order\n",
    "df_skills_count.sort_values(by='skill_count', ascending=False, inplace=True)\n",
    "\n",
    "df_skills_count"
   ]
  },
  {
   "cell_type": "markdown",
   "metadata": {},
   "source": [
    "## Create List of Top 3 Roles\n",
    "\n",
    "#### Focus: Data Analysts, Data Engineers, and Data Scientists\n",
    "\n",
    "Filter the job titles based on the most popular."
   ]
  },
  {
   "cell_type": "code",
   "execution_count": 15,
   "metadata": {},
   "outputs": [
    {
     "data": {
      "text/plain": [
       "['Data Analyst', 'Data Engineer', 'Data Scientist']"
      ]
     },
     "execution_count": 15,
     "metadata": {},
     "output_type": "execute_result"
    }
   ],
   "source": [
    "job_titles = df_skills_count['job_title_short'].unique().tolist()\n",
    "\n",
    "job_titles = sorted(job_titles[:3])\n",
    "\n",
    "job_titles"
   ]
  },
  {
   "cell_type": "markdown",
   "metadata": {},
   "source": [
    "## Plot Skill Counts"
   ]
  },
  {
   "cell_type": "markdown",
   "metadata": {},
   "source": [
    "Creates a stacked horizontal bar chart for the top 5 skills for Top 3 roles, displaying the frequency of each skill. "
   ]
  },
  {
   "cell_type": "code",
   "execution_count": 24,
   "metadata": {},
   "outputs": [
    {
     "data": {
      "image/png": "[encoded data removed]",
      "text/plain": [
       "<Figure size 640x480 with 3 Axes>"
      ]
     },
     "metadata": {},
     "output_type": "display_data"
    }
   ],
   "source": [
    "fig, ax = plt.subplots(len(job_titles), 1)\n",
    "\n",
    "sns.set_theme(style='ticks')\n",
    "\n",
    "for i, job_title in enumerate(job_titles):\n",
    "    df_plot = df_skills_count[df_skills_count['job_title_short'] == job_title].head(5)[::-1]\n",
    "    sns.barplot(data=df_plot, x='skill_count', y='job_skills', ax=ax[i], hue='skill_count', palette='dark:b_r')\n",
    "    ax[i].set_title(job_title)\n",
    "    ax[i].invert_yaxis()\n",
    "    ax[i].set_ylabel('')\n",
    "    ax[i].set_xlabel('')\n",
    "    ax[i].get_legend().remove()\n",
    "    ax[i].set_xlim(0, 45000) # make the scales the same\n",
    "\n",
    "fig.suptitle('Counts of Skills Requested in Europe Job Postings', fontsize=15)\n",
    "fig.tight_layout(h_pad=0.5) # fix the overlap\n",
    "plt.show()"
   ]
  },
  {
   "cell_type": "markdown",
   "metadata": {},
   "source": [
    "## Convert Counts to Percentages\n",
    "\n",
    "#### Focus: Counts don't show what portions of jobs are requesting these skills\n",
    "\n",
    "So we'll convert the counts into percentages which helps us understand how each job title represents relative to the entire dataset. "
   ]
  },
  {
   "cell_type": "markdown",
   "metadata": {},
   "source": [
    "Before we can calculate the percentages we need the total counts for the jobs posted by job title. Calculate the frequency of each job title using the `value_counts()` method on the `job_title_short` column. Then reset the index to transform the Series into a DataFrame and renames the columns to `job_title_short` and `total`. The DataFrame `df_job_title_count` now holds a list of job titles alongside their total occurrences."
   ]
  },
  {
   "cell_type": "code",
   "execution_count": 25,
   "metadata": {},
   "outputs": [
    {
     "data": {
      "application/vnd.microsoft.datawrangler.viewer.v0+json": {
       "columns": [
        {
         "name": "index",
         "rawType": "int64",
         "type": "integer"
        },
        {
         "name": "job_title_short",
         "rawType": "object",
         "type": "string"
        },
        {
         "name": "jobs_total",
         "rawType": "int64",
         "type": "integer"
        }
       ],
       "ref": "0c0b466f-ea07-4f21-87e9-b444b7bc133b",
       "rows": [
        [
         "0",
         "Data Engineer",
         "67473"
        ],
        [
         "1",
         "Data Analyst",
         "58060"
        ],
        [
         "2",
         "Data Scientist",
         "48871"
        ],
        [
         "3",
         "Software Engineer",
         "15924"
        ],
        [
         "4",
         "Senior Data Engineer",
         "15256"
        ],
        [
         "5",
         "Business Analyst",
         "12518"
        ],
        [
         "6",
         "Senior Data Scientist",
         "10529"
        ],
        [
         "7",
         "Senior Data Analyst",
         "7090"
        ],
        [
         "8",
         "Machine Learning Engineer",
         "5563"
        ],
        [
         "9",
         "Cloud Engineer",
         "4144"
        ]
       ],
       "shape": {
        "columns": 2,
        "rows": 10
       }
      },
      "text/html": [
       "<div>\n",
       "<style scoped>\n",
       "    .dataframe tbody tr th:only-of-type {\n",
       "        vertical-align: middle;\n",
       "    }\n",
       "\n",
       "    .dataframe tbody tr th {\n",
       "        vertical-align: top;\n",
       "    }\n",
       "\n",
       "    .dataframe thead th {\n",
       "        text-align: right;\n",
       "    }\n",
       "</style>\n",
       "<table border=\"1\" class=\"dataframe\">\n",
       "  <thead>\n",
       "    <tr style=\"text-align: right;\">\n",
       "      <th></th>\n",
       "      <th>job_title_short</th>\n",
       "      <th>jobs_total</th>\n",
       "    </tr>\n",
       "  </thead>\n",
       "  <tbody>\n",
       "    <tr>\n",
       "      <th>0</th>\n",
       "      <td>Data Engineer</td>\n",
       "      <td>67473</td>\n",
       "    </tr>\n",
       "    <tr>\n",
       "      <th>1</th>\n",
       "      <td>Data Analyst</td>\n",
       "      <td>58060</td>\n",
       "    </tr>\n",
       "    <tr>\n",
       "      <th>2</th>\n",
       "      <td>Data Scientist</td>\n",
       "      <td>48871</td>\n",
       "    </tr>\n",
       "    <tr>\n",
       "      <th>3</th>\n",
       "      <td>Software Engineer</td>\n",
       "      <td>15924</td>\n",
       "    </tr>\n",
       "    <tr>\n",
       "      <th>4</th>\n",
       "      <td>Senior Data Engineer</td>\n",
       "      <td>15256</td>\n",
       "    </tr>\n",
       "    <tr>\n",
       "      <th>5</th>\n",
       "      <td>Business Analyst</td>\n",
       "      <td>12518</td>\n",
       "    </tr>\n",
       "    <tr>\n",
       "      <th>6</th>\n",
       "      <td>Senior Data Scientist</td>\n",
       "      <td>10529</td>\n",
       "    </tr>\n",
       "    <tr>\n",
       "      <th>7</th>\n",
       "      <td>Senior Data Analyst</td>\n",
       "      <td>7090</td>\n",
       "    </tr>\n",
       "    <tr>\n",
       "      <th>8</th>\n",
       "      <td>Machine Learning Engineer</td>\n",
       "      <td>5563</td>\n",
       "    </tr>\n",
       "    <tr>\n",
       "      <th>9</th>\n",
       "      <td>Cloud Engineer</td>\n",
       "      <td>4144</td>\n",
       "    </tr>\n",
       "  </tbody>\n",
       "</table>\n",
       "</div>"
      ],
      "text/plain": [
       "             job_title_short  jobs_total\n",
       "0              Data Engineer       67473\n",
       "1               Data Analyst       58060\n",
       "2             Data Scientist       48871\n",
       "3          Software Engineer       15924\n",
       "4       Senior Data Engineer       15256\n",
       "5           Business Analyst       12518\n",
       "6      Senior Data Scientist       10529\n",
       "7        Senior Data Analyst        7090\n",
       "8  Machine Learning Engineer        5563\n",
       "9             Cloud Engineer        4144"
      ]
     },
     "execution_count": 25,
     "metadata": {},
     "output_type": "execute_result"
    }
   ],
   "source": [
    "# Use original df to get the count of job titles\n",
    "df_job_title_count = df_eu_fianl['job_title_short'].value_counts().reset_index(name='jobs_total')\n",
    "\n",
    "df_job_title_count"
   ]
  },
  {
   "cell_type": "markdown",
   "metadata": {},
   "source": [
    "Then we calculate the percentages. First merge `df_skills_count` and `df_job_title_count`, based on the 'job_title_short' column, ensuring each skill count is associated with the total number of job postings for that title. Then calculate the percentage of each skill within its job title by dividing the skill count by the total job postings and multiplying by 100, adding this new data as a 'percentage' column. "
   ]
  },
  {
   "cell_type": "code",
   "execution_count": 26,
   "metadata": {},
   "outputs": [
    {
     "data": {
      "application/vnd.microsoft.datawrangler.viewer.v0+json": {
       "columns": [
        {
         "name": "index",
         "rawType": "int64",
         "type": "integer"
        },
        {
         "name": "job_skills",
         "rawType": "object",
         "type": "string"
        },
        {
         "name": "job_title_short",
         "rawType": "object",
         "type": "string"
        },
        {
         "name": "skill_count",
         "rawType": "int64",
         "type": "integer"
        },
        {
         "name": "jobs_total",
         "rawType": "int64",
         "type": "integer"
        },
        {
         "name": "skill_percent",
         "rawType": "float64",
         "type": "float"
        }
       ],
       "ref": "714c4bd0-5fca-4288-9611-168d8da74922",
       "rows": [
        [
         "0",
         "python",
         "Data Engineer",
         "42292",
         "67473",
         "62.67988676952262"
        ],
        [
         "1",
         "sql",
         "Data Engineer",
         "42205",
         "67473",
         "62.550946304447706"
        ],
        [
         "2",
         "python",
         "Data Scientist",
         "37662",
         "48871",
         "77.06410754844386"
        ],
        [
         "3",
         "sql",
         "Data Analyst",
         "32360",
         "58060",
         "55.735446090251465"
        ],
        [
         "4",
         "azure",
         "Data Engineer",
         "26263",
         "67473",
         "38.92371763520222"
        ],
        [
         "5",
         "sql",
         "Data Scientist",
         "23141",
         "48871",
         "47.35118986720141"
        ],
        [
         "6",
         "python",
         "Data Analyst",
         "21643",
         "58060",
         "37.276954874268"
        ],
        [
         "7",
         "aws",
         "Data Engineer",
         "21453",
         "67473",
         "31.794940198301543"
        ],
        [
         "8",
         "excel",
         "Data Analyst",
         "20564",
         "58060",
         "35.418532552531865"
        ],
        [
         "9",
         "spark",
         "Data Engineer",
         "19574",
         "67473",
         "29.010122567545537"
        ],
        [
         "10",
         "power bi",
         "Data Analyst",
         "16432",
         "58060",
         "28.301756803306922"
        ],
        [
         "11",
         "r",
         "Data Scientist",
         "16002",
         "48871",
         "32.74334472386487"
        ],
        [
         "12",
         "tableau",
         "Data Analyst",
         "13979",
         "58060",
         "24.07681708577334"
        ],
        [
         "13",
         "java",
         "Data Engineer",
         "12279",
         "67473",
         "18.198390467298033"
        ],
        [
         "14",
         "kafka",
         "Data Engineer",
         "10999",
         "67473",
         "16.301335348954396"
        ],
        [
         "15",
         "scala",
         "Data Engineer",
         "10877",
         "67473",
         "16.120522282987267"
        ],
        [
         "16",
         "databricks",
         "Data Engineer",
         "10821",
         "67473",
         "16.037526121559733"
        ],
        [
         "17",
         "python",
         "Senior Data Engineer",
         "10515",
         "15256",
         "68.92370214997378"
        ],
        [
         "18",
         "airflow",
         "Data Engineer",
         "9974",
         "67473",
         "14.782209179968284"
        ],
        [
         "19",
         "r",
         "Data Analyst",
         "9808",
         "58060",
         "16.89286944540131"
        ],
        [
         "20",
         "sql",
         "Senior Data Engineer",
         "9649",
         "15256",
         "63.24724698479287"
        ],
        [
         "21",
         "gcp",
         "Data Engineer",
         "9365",
         "67473",
         "13.87962592444385"
        ],
        [
         "22",
         "hadoop",
         "Data Engineer",
         "9212",
         "67473",
         "13.65286855482934"
        ],
        [
         "23",
         "python",
         "Senior Data Scientist",
         "8577",
         "10529",
         "81.4607275144838"
        ],
        [
         "24",
         "git",
         "Data Engineer",
         "8549",
         "67473",
         "12.670253286499786"
        ],
        [
         "25",
         "snowflake",
         "Data Engineer",
         "8202",
         "67473",
         "12.155973500511315"
        ],
        [
         "26",
         "sas",
         "Data Analyst",
         "8118",
         "58060",
         "13.98208749569411"
        ],
        [
         "27",
         "power bi",
         "Data Engineer",
         "8040",
         "67473",
         "11.915877462095951"
        ],
        [
         "28",
         "azure",
         "Data Scientist",
         "7883",
         "48871",
         "16.13022037609216"
        ],
        [
         "29",
         "aws",
         "Data Scientist",
         "7718",
         "48871",
         "15.792596836569745"
        ],
        [
         "30",
         "docker",
         "Data Engineer",
         "7653",
         "67473",
         "11.342314703659241"
        ],
        [
         "31",
         "sas",
         "Data Scientist",
         "7046",
         "48871",
         "14.417548239242088"
        ],
        [
         "32",
         "nosql",
         "Data Engineer",
         "7022",
         "67473",
         "10.407125813288278"
        ],
        [
         "33",
         "kubernetes",
         "Data Engineer",
         "7004",
         "67473",
         "10.38044847568657"
        ],
        [
         "34",
         "python",
         "Software Engineer",
         "6710",
         "15924",
         "42.137653855815124"
        ],
        [
         "35",
         "aws",
         "Senior Data Engineer",
         "6571",
         "15256",
         "43.07157839538542"
        ],
        [
         "36",
         "azure",
         "Senior Data Engineer",
         "6443",
         "15256",
         "42.2325642370215"
        ],
        [
         "37",
         "spark",
         "Data Scientist",
         "6312",
         "48871",
         "12.915635039184792"
        ],
        [
         "38",
         "mongodb",
         "Data Engineer",
         "6244",
         "67473",
         "9.254071999170039"
        ],
        [
         "39",
         "tableau",
         "Data Scientist",
         "6140",
         "48871",
         "12.563688076773547"
        ],
        [
         "40",
         "sql",
         "Business Analyst",
         "5794",
         "12518",
         "46.285349097299886"
        ],
        [
         "41",
         "tensorflow",
         "Data Scientist",
         "5743",
         "48871",
         "11.751345378649916"
        ],
        [
         "42",
         "tableau",
         "Data Engineer",
         "5694",
         "67473",
         "8.43893112800676"
        ],
        [
         "43",
         "pandas",
         "Data Scientist",
         "5514",
         "48871",
         "11.282764829858198"
        ],
        [
         "44",
         "sql server",
         "Data Engineer",
         "5497",
         "67473",
         "8.146962488699183"
        ],
        [
         "45",
         "sql",
         "Senior Data Scientist",
         "5382",
         "10529",
         "51.115965428815656"
        ],
        [
         "46",
         "spark",
         "Senior Data Engineer",
         "5190",
         "15256",
         "34.01940220241217"
        ],
        [
         "47",
         "sap",
         "Data Analyst",
         "5156",
         "58060",
         "8.880468480881847"
        ],
        [
         "48",
         "git",
         "Data Scientist",
         "5081",
         "48871",
         "10.396758814020584"
        ],
        [
         "49",
         "excel",
         "Business Analyst",
         "5031",
         "12518",
         "40.19012621824572"
        ]
       ],
       "shape": {
        "columns": 5,
        "rows": 2082
       }
      },
      "text/html": [
       "<div>\n",
       "<style scoped>\n",
       "    .dataframe tbody tr th:only-of-type {\n",
       "        vertical-align: middle;\n",
       "    }\n",
       "\n",
       "    .dataframe tbody tr th {\n",
       "        vertical-align: top;\n",
       "    }\n",
       "\n",
       "    .dataframe thead th {\n",
       "        text-align: right;\n",
       "    }\n",
       "</style>\n",
       "<table border=\"1\" class=\"dataframe\">\n",
       "  <thead>\n",
       "    <tr style=\"text-align: right;\">\n",
       "      <th></th>\n",
       "      <th>job_skills</th>\n",
       "      <th>job_title_short</th>\n",
       "      <th>skill_count</th>\n",
       "      <th>jobs_total</th>\n",
       "      <th>skill_percent</th>\n",
       "    </tr>\n",
       "  </thead>\n",
       "  <tbody>\n",
       "    <tr>\n",
       "      <th>0</th>\n",
       "      <td>python</td>\n",
       "      <td>Data Engineer</td>\n",
       "      <td>42292</td>\n",
       "      <td>67473</td>\n",
       "      <td>62.679887</td>\n",
       "    </tr>\n",
       "    <tr>\n",
       "      <th>1</th>\n",
       "      <td>sql</td>\n",
       "      <td>Data Engineer</td>\n",
       "      <td>42205</td>\n",
       "      <td>67473</td>\n",
       "      <td>62.550946</td>\n",
       "    </tr>\n",
       "    <tr>\n",
       "      <th>2</th>\n",
       "      <td>python</td>\n",
       "      <td>Data Scientist</td>\n",
       "      <td>37662</td>\n",
       "      <td>48871</td>\n",
       "      <td>77.064108</td>\n",
       "    </tr>\n",
       "    <tr>\n",
       "      <th>3</th>\n",
       "      <td>sql</td>\n",
       "      <td>Data Analyst</td>\n",
       "      <td>32360</td>\n",
       "      <td>58060</td>\n",
       "      <td>55.735446</td>\n",
       "    </tr>\n",
       "    <tr>\n",
       "      <th>4</th>\n",
       "      <td>azure</td>\n",
       "      <td>Data Engineer</td>\n",
       "      <td>26263</td>\n",
       "      <td>67473</td>\n",
       "      <td>38.923718</td>\n",
       "    </tr>\n",
       "    <tr>\n",
       "      <th>...</th>\n",
       "      <td>...</td>\n",
       "      <td>...</td>\n",
       "      <td>...</td>\n",
       "      <td>...</td>\n",
       "      <td>...</td>\n",
       "    </tr>\n",
       "    <tr>\n",
       "      <th>2077</th>\n",
       "      <td>wrike</td>\n",
       "      <td>Senior Data Analyst</td>\n",
       "      <td>1</td>\n",
       "      <td>7090</td>\n",
       "      <td>0.014104</td>\n",
       "    </tr>\n",
       "    <tr>\n",
       "      <th>2078</th>\n",
       "      <td>wrike</td>\n",
       "      <td>Data Engineer</td>\n",
       "      <td>1</td>\n",
       "      <td>67473</td>\n",
       "      <td>0.001482</td>\n",
       "    </tr>\n",
       "    <tr>\n",
       "      <th>2079</th>\n",
       "      <td>wrike</td>\n",
       "      <td>Business Analyst</td>\n",
       "      <td>1</td>\n",
       "      <td>12518</td>\n",
       "      <td>0.007988</td>\n",
       "    </tr>\n",
       "    <tr>\n",
       "      <th>2080</th>\n",
       "      <td>airtable</td>\n",
       "      <td>Cloud Engineer</td>\n",
       "      <td>1</td>\n",
       "      <td>4144</td>\n",
       "      <td>0.024131</td>\n",
       "    </tr>\n",
       "    <tr>\n",
       "      <th>2081</th>\n",
       "      <td>airtable</td>\n",
       "      <td>Machine Learning Engineer</td>\n",
       "      <td>1</td>\n",
       "      <td>5563</td>\n",
       "      <td>0.017976</td>\n",
       "    </tr>\n",
       "  </tbody>\n",
       "</table>\n",
       "<p>2082 rows × 5 columns</p>\n",
       "</div>"
      ],
      "text/plain": [
       "     job_skills            job_title_short  skill_count  jobs_total  \\\n",
       "0        python              Data Engineer        42292       67473   \n",
       "1           sql              Data Engineer        42205       67473   \n",
       "2        python             Data Scientist        37662       48871   \n",
       "3           sql               Data Analyst        32360       58060   \n",
       "4         azure              Data Engineer        26263       67473   \n",
       "...         ...                        ...          ...         ...   \n",
       "2077      wrike        Senior Data Analyst            1        7090   \n",
       "2078      wrike              Data Engineer            1       67473   \n",
       "2079      wrike           Business Analyst            1       12518   \n",
       "2080   airtable             Cloud Engineer            1        4144   \n",
       "2081   airtable  Machine Learning Engineer            1        5563   \n",
       "\n",
       "      skill_percent  \n",
       "0         62.679887  \n",
       "1         62.550946  \n",
       "2         77.064108  \n",
       "3         55.735446  \n",
       "4         38.923718  \n",
       "...             ...  \n",
       "2077       0.014104  \n",
       "2078       0.001482  \n",
       "2079       0.007988  \n",
       "2080       0.024131  \n",
       "2081       0.017976  \n",
       "\n",
       "[2082 rows x 5 columns]"
      ]
     },
     "execution_count": 26,
     "metadata": {},
     "output_type": "execute_result"
    }
   ],
   "source": [
    "df_skills_perc = pd.merge(df_skills_count, df_job_title_count, on='job_title_short', how='left')\n",
    "\n",
    "df_skills_perc['skill_percent'] = (df_skills_perc['skill_count'] / df_skills_perc['jobs_total']) * 100\n",
    "\n",
    "df_skills_perc"
   ]
  },
  {
   "cell_type": "markdown",
   "metadata": {},
   "source": [
    "## Plot Percentage Count"
   ]
  },
  {
   "cell_type": "markdown",
   "metadata": {},
   "source": [
    "Filters and sorts a DataFrame to get the top 5 skills percentages for these top 3 roles. After sorting the skills by descending percentage, reverse the order of these top 5 entries to use in a horizontal bar plot, which by default starts plotting from the bottom."
   ]
  },
  {
   "cell_type": "code",
   "execution_count": 29,
   "metadata": {},
   "outputs": [
    {
     "data": {
      "image/png": "[encoded data removed]",
      "text/plain": [
       "<Figure size 640x480 with 3 Axes>"
      ]
     },
     "metadata": {},
     "output_type": "display_data"
    }
   ],
   "source": [
    "fig, ax = plt.subplots(len(job_titles), 1)\n",
    "\n",
    "\n",
    "for i, job_title in enumerate(job_titles):\n",
    "    df_plot = df_skills_perc[df_skills_perc['job_title_short'] == job_title].head(5)\n",
    "    sns.barplot(data=df_plot, x='skill_percent', y='job_skills', ax=ax[i], hue='skill_count', palette='dark:b_r')\n",
    "    ax[i].set_title(job_title)\n",
    "    ax[i].set_ylabel('')\n",
    "    ax[i].set_xlabel('')\n",
    "    ax[i].get_legend().remove()\n",
    "    ax[i].set_xlim(0, 90)\n",
    "    # remove the x-axis tick labels for better readability\n",
    "    if i != len(job_titles) - 1:\n",
    "        ax[i].set_xticks([])\n",
    "\n",
    "    # label the percentage on the bars\n",
    "    for n, v in enumerate(df_plot['skill_percent']):\n",
    "        ax[i].text(v + 1, n, f'{v:.0f}%', va='center')\n",
    "\n",
    "fig.suptitle('Likelihood of Skills Requested in Europe Job Postings', fontsize=15)\n",
    "fig.tight_layout(h_pad=.8)\n",
    "plt.show()"
   ]
  }
 ],
 "metadata": {
  "kernelspec": {
   "display_name": "Python 3",
   "language": "python",
   "name": "python3"
  },
  "language_info": {
   "codemirror_mode": {
    "name": "ipython",
    "version": 3
   },
   "file_extension": ".py",
   "mimetype": "text/x-python",
   "name": "python",
   "nbconvert_exporter": "python",
   "pygments_lexer": "ipython3",
   "version": "3.13.2"
  }
 },
 "nbformat": 4,
 "nbformat_minor": 2
}
