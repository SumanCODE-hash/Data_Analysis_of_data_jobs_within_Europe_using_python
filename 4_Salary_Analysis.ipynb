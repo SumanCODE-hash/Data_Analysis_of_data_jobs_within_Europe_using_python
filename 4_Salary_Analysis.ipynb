{
 "cells": [
  {
   "cell_type": "markdown",
   "id": "682a9866",
   "metadata": {},
   "source": [
    "<a target=\"_blank\" href=\"https://colab.research.google.com/github/lukebarousse/Python_Data_Analytics_Course/blob/main/3_Project/4_Salary_Analysis.ipynb\">\n",
    "  <img src=\"https://colab.research.google.com/assets/colab-badge.svg\" alt=\"Open In Colab\"/>\n",
    "</a>"
   ]
  },
  {
   "cell_type": "markdown",
   "metadata": {},
   "source": [
    "# How well do jobs and skills pay for Data Analysts?\n",
    "\n",
    "#### Methodology\n",
    "1. Evaluate median salary for top 6 data jobs\n",
    "2. Find median salary per skill for Data Analysts\n",
    "3. Visualize for highest paying skills and most demanded skills\n",
    "\n",
    "#### Original Exploration\n",
    "\n",
    "[18_Matplotlib_Box_Plots.ipynb](../2_Advanced/18_Matplotlib_Box_Plots.ipynb)  \n",
    "[19_Exercise_Skill_Pay_Analysis.ipynb](../2_Advanced/19_Exercise_Skill_Pay_Analysis.ipynb)"
   ]
  },
  {
   "cell_type": "markdown",
   "metadata": {},
   "source": [
    "## Import Libraries and Data"
   ]
  },
  {
   "cell_type": "code",
   "execution_count": 2,
   "metadata": {},
   "outputs": [],
   "source": [
    "# Importing Libraries\n",
    "import ast\n",
    "import pandas as pd\n",
    "import seaborn as sns\n",
    "from datasets import load_dataset\n",
    "import matplotlib.pyplot as plt  \n",
    "\n",
    "# Loading Data\n",
    "df_european_cleaned = pd.read_csv(\"df_european_cleaned_copy.csv\")\n",
    "\n",
    "df_european_cleaned_copy = df_european_cleaned.copy()\n",
    "# Data Cleanup\n",
    "df_european_cleaned_copy['job_posted_date'] = pd.to_datetime(df_european_cleaned_copy['job_posted_date'])\n",
    "df_european_cleaned_copy['job_skills'] = df_european_cleaned_copy['job_skills'].apply(lambda x: ast.literal_eval(x) if pd.notna(x) else x)"
   ]
  },
  {
   "cell_type": "markdown",
   "metadata": {},
   "source": [
    "## Salary Distribution by Job Title"
   ]
  },
  {
   "cell_type": "markdown",
   "metadata": {},
   "source": [
    "Filter our data to only include salary values from the Europe."
   ]
  },
  {
   "cell_type": "markdown",
   "metadata": {},
   "source": [
    "Create a list of the main job_titles in our dataset and filter our dataframe to only contain these job titles."
   ]
  },
  {
   "cell_type": "code",
   "execution_count": 3,
   "metadata": {},
   "outputs": [
    {
     "data": {
      "text/plain": [
       "['Data Engineer',\n",
       " 'Data Analyst',\n",
       " 'Data Scientist',\n",
       " 'Software Engineer',\n",
       " 'Business Analyst',\n",
       " 'Senior Data Engineer']"
      ]
     },
     "execution_count": 3,
     "metadata": {},
     "output_type": "execute_result"
    }
   ],
   "source": [
    "job_titles = df_european_cleaned_copy['job_title_short'].value_counts().index[:6].tolist()\n",
    "\n",
    "# filter the df for the top 6 job titles\n",
    "df_EU_top6 = df_european_cleaned_copy[df_european_cleaned_copy['job_title_short'].isin(job_titles)]\n",
    "\n",
    "# order the job titles by median salary\n",
    "job_order = df_EU_top6.groupby('job_title_short')['salary_year_avg'].median().sort_values(ascending=False).index\n",
    "\n",
    "\n",
    "job_titles"
   ]
  },
  {
   "cell_type": "markdown",
   "metadata": {},
   "source": [
    "## Plot Salary Distributions"
   ]
  },
  {
   "cell_type": "markdown",
   "metadata": {},
   "source": [
    "Plot the top 6 job titles salary distributions using a barplot."
   ]
  },
  {
   "cell_type": "code",
   "execution_count": 4,
   "metadata": {},
   "outputs": [
    {
     "data": {
      "image/png": "[encoded data removed]",
      "text/plain": [
       "<Figure size 640x480 with 1 Axes>"
      ]
     },
     "metadata": {},
     "output_type": "display_data"
    }
   ],
   "source": [
    "sns.barplot(data=df_EU_top6, x='salary_year_avg', y='job_title_short', order=job_order)\n",
    "sns.set_theme(style='ticks')\n",
    "sns.despine()\n",
    "\n",
    "# this is all the same\n",
    "plt.title('Salary Distributions of Data Jobs in the Europe')\n",
    "plt.xlabel('Yearly Salary (USD)')\n",
    "plt.ylabel('')\n",
    "ticks_x = plt.FuncFormatter(lambda y, pos: f'${int(y/1000)}K')\n",
    "plt.gca().xaxis.set_major_formatter(ticks_x)\n",
    "plt.show()"
   ]
  },
  {
   "cell_type": "markdown",
   "metadata": {},
   "source": [
    "## Investigate Median Salary Vs Skill for Data Analysts"
   ]
  },
  {
   "cell_type": "markdown",
   "metadata": {},
   "source": [
    "Filters the original dataset to only get rows where the job title is 'Data Analyst' and the Europe Region', to create a new DataFrame `df_DA_EU`. Drop NaN values from the 'salary_year_avg' column. Then it uses the `explode` method on the `job_skills` column to create a new row in the DataFrame for each skill associated with a job. Finally, it displays the first five entries of the `salary_year_avg` and `job_skills` columns."
   ]
  },
  {
   "cell_type": "code",
   "execution_count": 5,
   "metadata": {},
   "outputs": [],
   "source": [
    "# Only get data analyst jobs in the US\n",
    "df_EU_DA =  df_european_cleaned_copy[df_european_cleaned_copy['job_title_short'] == \"Data Analyst\"].copy()\n",
    "\n",
    "# Drop NaN values from the 'salary_year_avg' column for accurate visualization\n",
    "df_EU_DA = df_EU_DA.dropna(subset=['salary_year_avg'])"
   ]
  },
  {
   "cell_type": "code",
   "execution_count": 6,
   "metadata": {},
   "outputs": [
    {
     "data": {
      "application/vnd.microsoft.datawrangler.viewer.v0+json": {
       "columns": [
        {
         "name": "index",
         "rawType": "int64",
         "type": "integer"
        },
        {
         "name": "salary_year_avg",
         "rawType": "float64",
         "type": "float"
        },
        {
         "name": "job_skills",
         "rawType": "object",
         "type": "string"
        }
       ],
       "ref": "d45b942d-084b-4836-90b6-73be3cbb26c6",
       "rows": [
        [
         "4",
         "89100.0",
         "sql"
        ],
        [
         "4",
         "89100.0",
         "php"
        ],
        [
         "4",
         "89100.0",
         "excel"
        ],
        [
         "4",
         "89100.0",
         "power bi"
        ],
        [
         "4",
         "89100.0",
         "sap"
        ]
       ],
       "shape": {
        "columns": 2,
        "rows": 5
       }
      },
      "text/html": [
       "<div>\n",
       "<style scoped>\n",
       "    .dataframe tbody tr th:only-of-type {\n",
       "        vertical-align: middle;\n",
       "    }\n",
       "\n",
       "    .dataframe tbody tr th {\n",
       "        vertical-align: top;\n",
       "    }\n",
       "\n",
       "    .dataframe thead th {\n",
       "        text-align: right;\n",
       "    }\n",
       "</style>\n",
       "<table border=\"1\" class=\"dataframe\">\n",
       "  <thead>\n",
       "    <tr style=\"text-align: right;\">\n",
       "      <th></th>\n",
       "      <th>salary_year_avg</th>\n",
       "      <th>job_skills</th>\n",
       "    </tr>\n",
       "  </thead>\n",
       "  <tbody>\n",
       "    <tr>\n",
       "      <th>4</th>\n",
       "      <td>89100.0</td>\n",
       "      <td>sql</td>\n",
       "    </tr>\n",
       "    <tr>\n",
       "      <th>4</th>\n",
       "      <td>89100.0</td>\n",
       "      <td>php</td>\n",
       "    </tr>\n",
       "    <tr>\n",
       "      <th>4</th>\n",
       "      <td>89100.0</td>\n",
       "      <td>excel</td>\n",
       "    </tr>\n",
       "    <tr>\n",
       "      <th>4</th>\n",
       "      <td>89100.0</td>\n",
       "      <td>power bi</td>\n",
       "    </tr>\n",
       "    <tr>\n",
       "      <th>4</th>\n",
       "      <td>89100.0</td>\n",
       "      <td>sap</td>\n",
       "    </tr>\n",
       "  </tbody>\n",
       "</table>\n",
       "</div>"
      ],
      "text/plain": [
       "   salary_year_avg job_skills\n",
       "4          89100.0        sql\n",
       "4          89100.0        php\n",
       "4          89100.0      excel\n",
       "4          89100.0   power bi\n",
       "4          89100.0        sap"
      ]
     },
     "execution_count": 6,
     "metadata": {},
     "output_type": "execute_result"
    }
   ],
   "source": [
    "df_EU_DA = df_EU_DA.explode('job_skills')\n",
    "\n",
    "df_EU_DA[['salary_year_avg', 'job_skills']].head(5)"
   ]
  },
  {
   "cell_type": "markdown",
   "metadata": {},
   "source": [
    "## Determine The Highest Paid Skills and Most Demanded Skills"
   ]
  },
  {
   "cell_type": "markdown",
   "metadata": {},
   "source": [
    "Gets the top ten highest-paying skills for Data Analysts by calculating the mean salary for each skill listed in the `df_EU_DA`. It groups the data by job skills, computes the median salary, sorts these values in descending order by mean, and then selects the top 10. This is then formatted into a new DataFrame (`df_EU_top_pay`) with a reset index and a renamed salary column labeled 'mean_salary'."
   ]
  },
  {
   "cell_type": "code",
   "execution_count": 7,
   "metadata": {},
   "outputs": [
    {
     "data": {
      "application/vnd.microsoft.datawrangler.viewer.v0+json": {
       "columns": [
        {
         "name": "job_skills",
         "rawType": "object",
         "type": "string"
        },
        {
         "name": "count",
         "rawType": "int64",
         "type": "integer"
        },
        {
         "name": "mean",
         "rawType": "float64",
         "type": "float"
        }
       ],
       "ref": "8d91c7dc-076a-45b8-9591-ca0330a1bd16",
       "rows": [
        [
         "svn",
         "28",
         "100203.57142857143"
        ],
        [
         "aurora",
         "30",
         "91630.0"
        ],
        [
         "npm",
         "10",
         "91310.2"
        ],
        [
         "unify",
         "58",
         "90387.62068965517"
        ],
        [
         "smartsheet",
         "54",
         "90320.37037037036"
        ],
        [
         "kafka",
         "442",
         "90245.4536199095"
        ],
        [
         "terraform",
         "159",
         "90187.43081761006"
        ],
        [
         "flask",
         "68",
         "90186.46323529411"
        ],
        [
         "asana",
         "54",
         "90181.48148148147"
        ],
        [
         "nosql",
         "780",
         "89961.97115384616"
        ]
       ],
       "shape": {
        "columns": 2,
        "rows": 10
       }
      },
      "text/html": [
       "<div>\n",
       "<style scoped>\n",
       "    .dataframe tbody tr th:only-of-type {\n",
       "        vertical-align: middle;\n",
       "    }\n",
       "\n",
       "    .dataframe tbody tr th {\n",
       "        vertical-align: top;\n",
       "    }\n",
       "\n",
       "    .dataframe thead th {\n",
       "        text-align: right;\n",
       "    }\n",
       "</style>\n",
       "<table border=\"1\" class=\"dataframe\">\n",
       "  <thead>\n",
       "    <tr style=\"text-align: right;\">\n",
       "      <th></th>\n",
       "      <th>count</th>\n",
       "      <th>mean</th>\n",
       "    </tr>\n",
       "    <tr>\n",
       "      <th>job_skills</th>\n",
       "      <th></th>\n",
       "      <th></th>\n",
       "    </tr>\n",
       "  </thead>\n",
       "  <tbody>\n",
       "    <tr>\n",
       "      <th>svn</th>\n",
       "      <td>28</td>\n",
       "      <td>100203.571429</td>\n",
       "    </tr>\n",
       "    <tr>\n",
       "      <th>aurora</th>\n",
       "      <td>30</td>\n",
       "      <td>91630.000000</td>\n",
       "    </tr>\n",
       "    <tr>\n",
       "      <th>npm</th>\n",
       "      <td>10</td>\n",
       "      <td>91310.200000</td>\n",
       "    </tr>\n",
       "    <tr>\n",
       "      <th>unify</th>\n",
       "      <td>58</td>\n",
       "      <td>90387.620690</td>\n",
       "    </tr>\n",
       "    <tr>\n",
       "      <th>smartsheet</th>\n",
       "      <td>54</td>\n",
       "      <td>90320.370370</td>\n",
       "    </tr>\n",
       "    <tr>\n",
       "      <th>kafka</th>\n",
       "      <td>442</td>\n",
       "      <td>90245.453620</td>\n",
       "    </tr>\n",
       "    <tr>\n",
       "      <th>terraform</th>\n",
       "      <td>159</td>\n",
       "      <td>90187.430818</td>\n",
       "    </tr>\n",
       "    <tr>\n",
       "      <th>flask</th>\n",
       "      <td>68</td>\n",
       "      <td>90186.463235</td>\n",
       "    </tr>\n",
       "    <tr>\n",
       "      <th>asana</th>\n",
       "      <td>54</td>\n",
       "      <td>90181.481481</td>\n",
       "    </tr>\n",
       "    <tr>\n",
       "      <th>nosql</th>\n",
       "      <td>780</td>\n",
       "      <td>89961.971154</td>\n",
       "    </tr>\n",
       "  </tbody>\n",
       "</table>\n",
       "</div>"
      ],
      "text/plain": [
       "            count           mean\n",
       "job_skills                      \n",
       "svn            28  100203.571429\n",
       "aurora         30   91630.000000\n",
       "npm            10   91310.200000\n",
       "unify          58   90387.620690\n",
       "smartsheet     54   90320.370370\n",
       "kafka         442   90245.453620\n",
       "terraform     159   90187.430818\n",
       "flask          68   90186.463235\n",
       "asana          54   90181.481481\n",
       "nosql         780   89961.971154"
      ]
     },
     "execution_count": 7,
     "metadata": {},
     "output_type": "execute_result"
    }
   ],
   "source": [
    "df_EU_top_pay = df_EU_DA.groupby('job_skills')['salary_year_avg'].agg(['count', 'mean']).sort_values(by='mean', ascending=False)\n",
    "\n",
    "df_EU_top_pay = df_EU_top_pay.head(10)\n",
    "\n",
    "df_EU_top_pay"
   ]
  },
  {
   "cell_type": "markdown",
   "metadata": {},
   "source": [
    "Calculates the count and median salary for each skill in `df_EU_DA`. It groups the data by `job_skills`, aggregates it to find the count and median salary for each skill, and then sorts the results by count in descending order by count. It re-sorts this subset by median salary in descending order."
   ]
  },
  {
   "cell_type": "code",
   "execution_count": 8,
   "metadata": {},
   "outputs": [
    {
     "data": {
      "application/vnd.microsoft.datawrangler.viewer.v0+json": {
       "columns": [
        {
         "name": "job_skills",
         "rawType": "object",
         "type": "string"
        },
        {
         "name": "count",
         "rawType": "int64",
         "type": "integer"
        },
        {
         "name": "mean",
         "rawType": "float64",
         "type": "float"
        }
       ],
       "ref": "a56a3da2-bcf5-4ba9-b57e-4dca075da85f",
       "rows": [
        [
         "azure",
         "4902",
         "89343.32048143615"
        ],
        [
         "python",
         "21643",
         "89141.14967888001"
        ],
        [
         "sql",
         "32360",
         "89120.0588380717"
        ],
        [
         "r",
         "9808",
         "89111.05148858075"
        ],
        [
         "sap",
         "5156",
         "89104.22430178433"
        ],
        [
         "power bi",
         "16432",
         "89089.00502069133"
        ],
        [
         "tableau",
         "13979",
         "89088.60354817941"
        ],
        [
         "sas",
         "8118",
         "89085.9164818921"
        ],
        [
         "excel",
         "20564",
         "89036.00508169617"
        ],
        [
         "powerpoint",
         "3244",
         "89012.18834771887"
        ]
       ],
       "shape": {
        "columns": 2,
        "rows": 10
       }
      },
      "text/html": [
       "<div>\n",
       "<style scoped>\n",
       "    .dataframe tbody tr th:only-of-type {\n",
       "        vertical-align: middle;\n",
       "    }\n",
       "\n",
       "    .dataframe tbody tr th {\n",
       "        vertical-align: top;\n",
       "    }\n",
       "\n",
       "    .dataframe thead th {\n",
       "        text-align: right;\n",
       "    }\n",
       "</style>\n",
       "<table border=\"1\" class=\"dataframe\">\n",
       "  <thead>\n",
       "    <tr style=\"text-align: right;\">\n",
       "      <th></th>\n",
       "      <th>count</th>\n",
       "      <th>mean</th>\n",
       "    </tr>\n",
       "    <tr>\n",
       "      <th>job_skills</th>\n",
       "      <th></th>\n",
       "      <th></th>\n",
       "    </tr>\n",
       "  </thead>\n",
       "  <tbody>\n",
       "    <tr>\n",
       "      <th>azure</th>\n",
       "      <td>4902</td>\n",
       "      <td>89343.320481</td>\n",
       "    </tr>\n",
       "    <tr>\n",
       "      <th>python</th>\n",
       "      <td>21643</td>\n",
       "      <td>89141.149679</td>\n",
       "    </tr>\n",
       "    <tr>\n",
       "      <th>sql</th>\n",
       "      <td>32360</td>\n",
       "      <td>89120.058838</td>\n",
       "    </tr>\n",
       "    <tr>\n",
       "      <th>r</th>\n",
       "      <td>9808</td>\n",
       "      <td>89111.051489</td>\n",
       "    </tr>\n",
       "    <tr>\n",
       "      <th>sap</th>\n",
       "      <td>5156</td>\n",
       "      <td>89104.224302</td>\n",
       "    </tr>\n",
       "    <tr>\n",
       "      <th>power bi</th>\n",
       "      <td>16432</td>\n",
       "      <td>89089.005021</td>\n",
       "    </tr>\n",
       "    <tr>\n",
       "      <th>tableau</th>\n",
       "      <td>13979</td>\n",
       "      <td>89088.603548</td>\n",
       "    </tr>\n",
       "    <tr>\n",
       "      <th>sas</th>\n",
       "      <td>8118</td>\n",
       "      <td>89085.916482</td>\n",
       "    </tr>\n",
       "    <tr>\n",
       "      <th>excel</th>\n",
       "      <td>20564</td>\n",
       "      <td>89036.005082</td>\n",
       "    </tr>\n",
       "    <tr>\n",
       "      <th>powerpoint</th>\n",
       "      <td>3244</td>\n",
       "      <td>89012.188348</td>\n",
       "    </tr>\n",
       "  </tbody>\n",
       "</table>\n",
       "</div>"
      ],
      "text/plain": [
       "            count          mean\n",
       "job_skills                     \n",
       "azure        4902  89343.320481\n",
       "python      21643  89141.149679\n",
       "sql         32360  89120.058838\n",
       "r            9808  89111.051489\n",
       "sap          5156  89104.224302\n",
       "power bi    16432  89089.005021\n",
       "tableau     13979  89088.603548\n",
       "sas          8118  89085.916482\n",
       "excel       20564  89036.005082\n",
       "powerpoint   3244  89012.188348"
      ]
     },
     "execution_count": 8,
     "metadata": {},
     "output_type": "execute_result"
    }
   ],
   "source": [
    "df_EU_skills = df_EU_DA.groupby('job_skills')['salary_year_avg'].agg(['count', 'mean']).sort_values(by='count', ascending=False)\n",
    "\n",
    "df_EU_skills = df_EU_skills.head(10).sort_values(by='mean', ascending=False)\n",
    "\n",
    "df_EU_skills"
   ]
  },
  {
   "cell_type": "markdown",
   "metadata": {},
   "source": [
    "Creates two horizontal bar charts: \n",
    "1. Displays the highest paid skills \n",
    "2. Shows the most in demand skills "
   ]
  },
  {
   "cell_type": "code",
   "execution_count": 10,
   "metadata": {},
   "outputs": [
    {
     "data": {
      "image/png": "[encoded data removed]",
      "text/plain": [
       "<Figure size 640x480 with 2 Axes>"
      ]
     },
     "metadata": {},
     "output_type": "display_data"
    }
   ],
   "source": [
    "fig, ax = plt.subplots(2, 1)  \n",
    "\n",
    "# Top 10 Highest Paid Skills for Data Analysts\n",
    "sns.barplot(data=df_EU_top_pay, x='mean', y=df_EU_top_pay.index, hue='mean', ax=ax[0], palette='dark:b_r')\n",
    "ax[0].legend().remove()\n",
    "# original code:\n",
    "# df_DA_top_pay[::-1].plot(kind='barh', y='median', ax=ax[0], legend=False) \n",
    "ax[0].set_title('Highest Paid Skills for Data Analysts in the Europr')\n",
    "ax[0].set_ylabel('')\n",
    "ax[0].set_xlabel('')\n",
    "ax[0].xaxis.set_major_formatter(plt.FuncFormatter(lambda x, _: f'${int(x/1000)}K'))\n",
    "\n",
    "\n",
    "# Top 10 Most In-Demand Skills for Data Analysts')\n",
    "sns.barplot(data=df_EU_skills, x='mean', y=df_EU_skills.index, hue='mean', ax=ax[1], palette='light:b')\n",
    "ax[1].legend().remove()\n",
    "# original code:\n",
    "# df_DA_skills[::-1].plot(kind='barh', y='median', ax=ax[1], legend=False)\n",
    "ax[1].set_title('Most In-Demand Skills for Data Analysts in the Europe')\n",
    "ax[1].set_ylabel('')\n",
    "ax[1].set_xlabel('Mean Salary (USD)')\n",
    "ax[1].set_xlim(ax[0].get_xlim())  # Set the same x-axis limits as the first plot\n",
    "ax[1].xaxis.set_major_formatter(plt.FuncFormatter(lambda x, _: f'${int(x/1000)}K'))\n",
    "\n",
    "sns.set_theme(style='ticks')\n",
    "plt.tight_layout()\n",
    "plt.show()"
   ]
  }
 ],
 "metadata": {
  "kernelspec": {
   "display_name": "Python 3",
   "language": "python",
   "name": "python3"
  },
  "language_info": {
   "codemirror_mode": {
    "name": "ipython",
    "version": 3
   },
   "file_extension": ".py",
   "mimetype": "text/x-python",
   "name": "python",
   "nbconvert_exporter": "python",
   "pygments_lexer": "ipython3",
   "version": "3.13.2"
  }
 },
 "nbformat": 4,
 "nbformat_minor": 2
}
